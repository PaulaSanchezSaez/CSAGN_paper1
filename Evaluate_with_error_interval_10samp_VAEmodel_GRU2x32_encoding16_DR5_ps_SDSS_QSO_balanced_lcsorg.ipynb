{
  "nbformat": 4,
  "nbformat_minor": 0,
  "metadata": {
    "colab": {
      "name": "Evaluate-with-error-interval-10samp-VAEmodel-GRU2x32-encoding16-DR5-ps-SDSS-QSO-balanced-lcsorg.ipynb",
      "provenance": [],
      "collapsed_sections": [],
      "machine_shape": "hm"
    },
    "kernelspec": {
      "display_name": "Python 3",
      "name": "python3"
    },
    "accelerator": "GPU"
  },
  "cells": [
    {
      "cell_type": "code",
      "metadata": {
        "colab": {
          "base_uri": "https://localhost:8080/"
        },
        "id": "dq6DGgWETPyH",
        "outputId": "eacb654f-eedf-42df-da3b-46272f4a2801"
      },
      "source": [
        "!pip install tensorflow-gpu"
      ],
      "execution_count": null,
      "outputs": [
        {
          "output_type": "stream",
          "text": [
            "Collecting tensorflow-gpu\n",
            "\u001b[?25l  Downloading https://files.pythonhosted.org/packages/1d/a2/5ccf0a418eb22e0a2ae9edc1e7f5456d0a4b8b49524572897564b4030a9b/tensorflow_gpu-2.5.0-cp37-cp37m-manylinux2010_x86_64.whl (454.3MB)\n",
            "\u001b[K     |████████████████████████████████| 454.3MB 22kB/s \n",
            "\u001b[?25hRequirement already satisfied: tensorboard~=2.5 in /usr/local/lib/python3.7/dist-packages (from tensorflow-gpu) (2.5.0)\n",
            "Requirement already satisfied: gast==0.4.0 in /usr/local/lib/python3.7/dist-packages (from tensorflow-gpu) (0.4.0)\n",
            "Requirement already satisfied: absl-py~=0.10 in /usr/local/lib/python3.7/dist-packages (from tensorflow-gpu) (0.12.0)\n",
            "Requirement already satisfied: grpcio~=1.34.0 in /usr/local/lib/python3.7/dist-packages (from tensorflow-gpu) (1.34.1)\n",
            "Requirement already satisfied: opt-einsum~=3.3.0 in /usr/local/lib/python3.7/dist-packages (from tensorflow-gpu) (3.3.0)\n",
            "Requirement already satisfied: tensorflow-estimator<2.6.0,>=2.5.0rc0 in /usr/local/lib/python3.7/dist-packages (from tensorflow-gpu) (2.5.0)\n",
            "Requirement already satisfied: google-pasta~=0.2 in /usr/local/lib/python3.7/dist-packages (from tensorflow-gpu) (0.2.0)\n",
            "Requirement already satisfied: flatbuffers~=1.12.0 in /usr/local/lib/python3.7/dist-packages (from tensorflow-gpu) (1.12)\n",
            "Requirement already satisfied: astunparse~=1.6.3 in /usr/local/lib/python3.7/dist-packages (from tensorflow-gpu) (1.6.3)\n",
            "Requirement already satisfied: keras-nightly~=2.5.0.dev in /usr/local/lib/python3.7/dist-packages (from tensorflow-gpu) (2.5.0.dev2021032900)\n",
            "Requirement already satisfied: wheel~=0.35 in /usr/local/lib/python3.7/dist-packages (from tensorflow-gpu) (0.36.2)\n",
            "Requirement already satisfied: numpy~=1.19.2 in /usr/local/lib/python3.7/dist-packages (from tensorflow-gpu) (1.19.5)\n",
            "Requirement already satisfied: termcolor~=1.1.0 in /usr/local/lib/python3.7/dist-packages (from tensorflow-gpu) (1.1.0)\n",
            "Requirement already satisfied: h5py~=3.1.0 in /usr/local/lib/python3.7/dist-packages (from tensorflow-gpu) (3.1.0)\n",
            "Requirement already satisfied: keras-preprocessing~=1.1.2 in /usr/local/lib/python3.7/dist-packages (from tensorflow-gpu) (1.1.2)\n",
            "Requirement already satisfied: wrapt~=1.12.1 in /usr/local/lib/python3.7/dist-packages (from tensorflow-gpu) (1.12.1)\n",
            "Requirement already satisfied: six~=1.15.0 in /usr/local/lib/python3.7/dist-packages (from tensorflow-gpu) (1.15.0)\n",
            "Requirement already satisfied: protobuf>=3.9.2 in /usr/local/lib/python3.7/dist-packages (from tensorflow-gpu) (3.12.4)\n",
            "Requirement already satisfied: typing-extensions~=3.7.4 in /usr/local/lib/python3.7/dist-packages (from tensorflow-gpu) (3.7.4.3)\n",
            "Requirement already satisfied: tensorboard-plugin-wit>=1.6.0 in /usr/local/lib/python3.7/dist-packages (from tensorboard~=2.5->tensorflow-gpu) (1.8.0)\n",
            "Requirement already satisfied: google-auth<2,>=1.6.3 in /usr/local/lib/python3.7/dist-packages (from tensorboard~=2.5->tensorflow-gpu) (1.30.0)\n",
            "Requirement already satisfied: markdown>=2.6.8 in /usr/local/lib/python3.7/dist-packages (from tensorboard~=2.5->tensorflow-gpu) (3.3.4)\n",
            "Requirement already satisfied: werkzeug>=0.11.15 in /usr/local/lib/python3.7/dist-packages (from tensorboard~=2.5->tensorflow-gpu) (1.0.1)\n",
            "Requirement already satisfied: requests<3,>=2.21.0 in /usr/local/lib/python3.7/dist-packages (from tensorboard~=2.5->tensorflow-gpu) (2.23.0)\n",
            "Requirement already satisfied: setuptools>=41.0.0 in /usr/local/lib/python3.7/dist-packages (from tensorboard~=2.5->tensorflow-gpu) (57.0.0)\n",
            "Requirement already satisfied: google-auth-oauthlib<0.5,>=0.4.1 in /usr/local/lib/python3.7/dist-packages (from tensorboard~=2.5->tensorflow-gpu) (0.4.4)\n",
            "Requirement already satisfied: tensorboard-data-server<0.7.0,>=0.6.0 in /usr/local/lib/python3.7/dist-packages (from tensorboard~=2.5->tensorflow-gpu) (0.6.1)\n",
            "Requirement already satisfied: cached-property; python_version < \"3.8\" in /usr/local/lib/python3.7/dist-packages (from h5py~=3.1.0->tensorflow-gpu) (1.5.2)\n",
            "Requirement already satisfied: pyasn1-modules>=0.2.1 in /usr/local/lib/python3.7/dist-packages (from google-auth<2,>=1.6.3->tensorboard~=2.5->tensorflow-gpu) (0.2.8)\n",
            "Requirement already satisfied: rsa<5,>=3.1.4; python_version >= \"3.6\" in /usr/local/lib/python3.7/dist-packages (from google-auth<2,>=1.6.3->tensorboard~=2.5->tensorflow-gpu) (4.7.2)\n",
            "Requirement already satisfied: cachetools<5.0,>=2.0.0 in /usr/local/lib/python3.7/dist-packages (from google-auth<2,>=1.6.3->tensorboard~=2.5->tensorflow-gpu) (4.2.2)\n",
            "Requirement already satisfied: importlib-metadata; python_version < \"3.8\" in /usr/local/lib/python3.7/dist-packages (from markdown>=2.6.8->tensorboard~=2.5->tensorflow-gpu) (4.0.1)\n",
            "Requirement already satisfied: idna<3,>=2.5 in /usr/local/lib/python3.7/dist-packages (from requests<3,>=2.21.0->tensorboard~=2.5->tensorflow-gpu) (2.10)\n",
            "Requirement already satisfied: urllib3!=1.25.0,!=1.25.1,<1.26,>=1.21.1 in /usr/local/lib/python3.7/dist-packages (from requests<3,>=2.21.0->tensorboard~=2.5->tensorflow-gpu) (1.24.3)\n",
            "Requirement already satisfied: chardet<4,>=3.0.2 in /usr/local/lib/python3.7/dist-packages (from requests<3,>=2.21.0->tensorboard~=2.5->tensorflow-gpu) (3.0.4)\n",
            "Requirement already satisfied: certifi>=2017.4.17 in /usr/local/lib/python3.7/dist-packages (from requests<3,>=2.21.0->tensorboard~=2.5->tensorflow-gpu) (2020.12.5)\n",
            "Requirement already satisfied: requests-oauthlib>=0.7.0 in /usr/local/lib/python3.7/dist-packages (from google-auth-oauthlib<0.5,>=0.4.1->tensorboard~=2.5->tensorflow-gpu) (1.3.0)\n",
            "Requirement already satisfied: pyasn1<0.5.0,>=0.4.6 in /usr/local/lib/python3.7/dist-packages (from pyasn1-modules>=0.2.1->google-auth<2,>=1.6.3->tensorboard~=2.5->tensorflow-gpu) (0.4.8)\n",
            "Requirement already satisfied: zipp>=0.5 in /usr/local/lib/python3.7/dist-packages (from importlib-metadata; python_version < \"3.8\"->markdown>=2.6.8->tensorboard~=2.5->tensorflow-gpu) (3.4.1)\n",
            "Requirement already satisfied: oauthlib>=3.0.0 in /usr/local/lib/python3.7/dist-packages (from requests-oauthlib>=0.7.0->google-auth-oauthlib<0.5,>=0.4.1->tensorboard~=2.5->tensorflow-gpu) (3.1.0)\n",
            "Installing collected packages: tensorflow-gpu\n",
            "Successfully installed tensorflow-gpu-2.5.0\n"
          ],
          "name": "stdout"
        }
      ]
    },
    {
      "cell_type": "code",
      "metadata": {
        "colab": {
          "base_uri": "https://localhost:8080/"
        },
        "id": "oowr-f5XTibb",
        "outputId": "ba6f7f73-1c16-4102-df34-f7c8c9fd51a9"
      },
      "source": [
        "import tensorflow as tf\n",
        "print(tf.__version__)"
      ],
      "execution_count": null,
      "outputs": [
        {
          "output_type": "stream",
          "text": [
            "2.5.0\n"
          ],
          "name": "stdout"
        }
      ]
    },
    {
      "cell_type": "code",
      "metadata": {
        "colab": {
          "base_uri": "https://localhost:8080/"
        },
        "id": "vtwCKpWDuSQZ",
        "outputId": "a514872e-136c-4cc5-8510-16708e67fff1"
      },
      "source": [
        "from google.colab import drive\n",
        "drive.mount('/content/drive')"
      ],
      "execution_count": null,
      "outputs": [
        {
          "output_type": "stream",
          "text": [
            "Drive already mounted at /content/drive; to attempt to forcibly remount, call drive.mount(\"/content/drive\", force_remount=True).\n"
          ],
          "name": "stdout"
        }
      ]
    },
    {
      "cell_type": "code",
      "metadata": {
        "id": "ZI7bbrRATieU"
      },
      "source": [
        "import datetime\n",
        "import sys\n",
        "import os\n",
        "import numpy as np\n",
        "import pandas as pd\n",
        "import sklearn \n",
        "import tensorflow.keras as keras\n",
        "import matplotlib.pyplot as plt"
      ],
      "execution_count": null,
      "outputs": []
    },
    {
      "cell_type": "code",
      "metadata": {
        "id": "bzzo0JutTiiW"
      },
      "source": [
        "from tensorflow.keras import Sequential\n",
        "import tensorflow.keras.backend as K\n",
        "from keras.layers import (Input, Dense, Lambda, TimeDistributed, LSTM, GRU, Dropout, merge, \n",
        "                         Concatenate, Flatten, RepeatVector, Bidirectional, SimpleRNN)\n",
        "from keras.models import Model\n",
        "from tensorflow.keras.activations import relu, sigmoid\n",
        "from tensorflow.keras.optimizers import Adam\n",
        "from tensorflow.keras.utils import plot_model\n",
        "from tensorflow.keras.preprocessing.sequence import pad_sequences\n"
      ],
      "execution_count": null,
      "outputs": []
    },
    {
      "cell_type": "code",
      "metadata": {
        "id": "jCl0rn0DTik5",
        "colab": {
          "base_uri": "https://localhost:8080/"
        },
        "outputId": "13216f05-3b7d-4d76-b71f-c415d148fb61"
      },
      "source": [
        "from tensorflow.keras.callbacks import (Callback, TensorBoard, EarlyStopping,\n",
        "                             ModelCheckpoint, CSVLogger, ProgbarLogger)\n",
        "import sys\n",
        "import csv\n",
        "from collections import Iterable, OrderedDict\n",
        "import datetime\n",
        "from sklearn.manifold import TSNE"
      ],
      "execution_count": null,
      "outputs": [
        {
          "output_type": "stream",
          "text": [
            "/usr/local/lib/python3.7/dist-packages/ipykernel_launcher.py:5: DeprecationWarning: Using or importing the ABCs from 'collections' instead of from 'collections.abc' is deprecated since Python 3.3,and in 3.9 it will stop working\n",
            "  \"\"\"\n"
          ],
          "name": "stderr"
        }
      ]
    },
    {
      "cell_type": "code",
      "metadata": {
        "colab": {
          "base_uri": "https://localhost:8080/"
        },
        "id": "LBp_n5uxTsMx",
        "outputId": "10a2d777-7715-4323-df7a-f17c7075a6b4"
      },
      "source": [
        "# Load the Drive helper and mount\n",
        "from google.colab import drive\n",
        "\n",
        "# This will prompt for authorization.\n",
        "drive.mount('/content/drive')"
      ],
      "execution_count": null,
      "outputs": [
        {
          "output_type": "stream",
          "text": [
            "Drive already mounted at /content/drive; to attempt to forcibly remount, call drive.mount(\"/content/drive\", force_remount=True).\n"
          ],
          "name": "stdout"
        }
      ]
    },
    {
      "cell_type": "markdown",
      "metadata": {
        "id": "itzx4iVkT1bS"
      },
      "source": [
        "Reading AGN light curves"
      ]
    },
    {
      "cell_type": "code",
      "metadata": {
        "id": "U2JJklxD2MoM"
      },
      "source": [
        "#reading list of lcs already saved \n",
        "#lcs= np.load('/content/drive/Shareddrives/Stargaze/datasets/ps_DR5_data/DR5_final_sample_lcs_gband_lcs_list.npy',allow_pickle=True)\n",
        "#lcs= np.load('/content/drive/Shareddrives/Stargaze/datasets/ps_DR5_data/DR5_VAE_32_16_largechi2_noblazar_sample_lcs_gband_lcs_list.npy',allow_pickle=True)\n",
        "#lcs= np.load('/content/drive/Shareddrives/Stargaze/datasets/ps_DR5_data/DR5_VAE_32_16_anomalous_noblazar_var_sample_lcs_gband_lcs_list.npy',allow_pickle=True)\n",
        "#lcs= np.load('/content/drive/Shareddrives/Stargaze/datasets/ps_DR5_data/Frederick_Ricci_targets_gband_lcs_list.npy',allow_pickle=True)\n",
        "#lcs= np.load('/content/drive/Shareddrives/Stargaze/datasets/ps_DR5_data/DR5_VAE_32_16_anomalous_NLS1_sample_lcs_gband_lcs_list.npy',allow_pickle=True)\n",
        "#lcs= np.load('/content/drive/Shareddrives/Stargaze/datasets/ps_DR5_data/DR5_VAE_32_16_csagncand_sample_lcs_gband_lcs_list.npy',allow_pickle=True)\n",
        "#lcs= np.load('/content/drive/Shareddrives/Stargaze/datasets/ps_DR5_data/DR5_VAE_32_16_anomQSO_IFscore_lcs_gband_lcs_list.npy',allow_pickle=True)\n",
        "lcs= np.load('/content/drive/Shareddrives/Stargaze/datasets/ps_DR5_data/DR5_VAE_32_16_CSAGN_cand_recent_gband_lcs_list.npy',allow_pickle=True)\n",
        "\n",
        "#reading list of oids already saved \n",
        "#oids_fids= np.load('/content/drive/Shareddrives/Stargaze/datasets/ps_DR5_data/DR5_final_sample_lcs_gband_oid_list.npy',allow_pickle=True)\n",
        "#oids_fids= np.load('/content/drive/Shareddrives/Stargaze/datasets/ps_DR5_data/DR5_VAE_32_16_largechi2_noblazar_sample_lcs_gband_oid_list.npy',allow_pickle=True)\n",
        "#oids_fids= np.load('/content/drive/Shareddrives/Stargaze/datasets/ps_DR5_data/DR5_VAE_32_16_anomalous_noblazar_var_sample_lcs_gband_oid_list.npy',allow_pickle=True)\n",
        "#oids_fids= np.load('/content/drive/Shareddrives/Stargaze/datasets/ps_DR5_data/Frederick_Ricci_targets_gband_oid_list.npy',allow_pickle=True)\n",
        "#oids_fids= np.load('/content/drive/Shareddrives/Stargaze/datasets/ps_DR5_data/DR5_VAE_32_16_anomalous_NLS1_sample_lcs_gband_oid_list.npy',allow_pickle=True)\n",
        "#oids_fids= np.load('/content/drive/Shareddrives/Stargaze/datasets/ps_DR5_data/DR5_VAE_32_16_csagncand_sample_lcs_gband_oid_list.npy',allow_pickle=True)\n",
        "#oids_fids= np.load('/content/drive/Shareddrives/Stargaze/datasets/ps_DR5_data/DR5_VAE_32_16_anomQSO_IFscore_lcs_gband_oid_list.npy',allow_pickle=True)\n",
        "oids_fids= np.load('/content/drive/Shareddrives/Stargaze/datasets/ps_DR5_data/DR5_VAE_32_16_CSAGN_cand_recent_gband_oid_list.npy',allow_pickle=True)\n"
      ],
      "execution_count": null,
      "outputs": []
    },
    {
      "cell_type": "code",
      "metadata": {
        "colab": {
          "base_uri": "https://localhost:8080/"
        },
        "id": "YCpyadZhYbV0",
        "outputId": "aa775147-88de-4219-ca84-0a723ae6fbb4"
      },
      "source": [
        "print(len(oids_fids))"
      ],
      "execution_count": null,
      "outputs": [
        {
          "output_type": "stream",
          "text": [
            "12\n"
          ],
          "name": "stdout"
        }
      ]
    },
    {
      "cell_type": "code",
      "metadata": {
        "id": "PViLGo0WloJZ"
      },
      "source": [
        "#lcs = lcs[120000:150000]\n",
        "#oids_fids = oids_fids[120000:150000]"
      ],
      "execution_count": null,
      "outputs": []
    },
    {
      "cell_type": "code",
      "metadata": {
        "colab": {
          "base_uri": "https://localhost:8080/"
        },
        "id": "sSigeLmNTxRC",
        "outputId": "d61fb05e-d85e-419e-bdd3-312e7a844d57"
      },
      "source": [
        "print(oids_fids[0:10])"
      ],
      "execution_count": null,
      "outputs": [
        {
          "output_type": "stream",
          "text": [
            "[[451103200005537]\n",
            " [495111100005833]\n",
            " [566112100004425]\n",
            " [646113100002570]\n",
            " [648101400002016]\n",
            " [649113400004567]\n",
            " [674113200005713]\n",
            " [678115400001961]\n",
            " [693106300007466]\n",
            " [712112100003746]]\n"
          ],
          "name": "stdout"
        }
      ]
    },
    {
      "cell_type": "code",
      "metadata": {
        "id": "hq_V_20PUKxc"
      },
      "source": [
        "#padding the lcs\n",
        "lcs_raw = pad_sequences(lcs, value=np.nan, dtype='float', padding='post')"
      ],
      "execution_count": null,
      "outputs": []
    },
    {
      "cell_type": "markdown",
      "metadata": {
        "id": "hoRZmyjmX4_p"
      },
      "source": [
        "**Preprocess for the input data:** \n",
        "\n",
        "MJD -> $\\Delta$MJD/365.0\n",
        "\n",
        "mag -> [mag - mean(mag)]/std(mag)"
      ]
    },
    {
      "cell_type": "code",
      "metadata": {
        "id": "GSicY9NxUKuy"
      },
      "source": [
        "def times_to_lags(T):\n",
        "    \"\"\"(N x n_step) matrix of times -> (N x n_step) matrix of lags.\n",
        "    First time is assumed to be zero.\n",
        "    \"\"\"\n",
        "    assert T.ndim == 2, \"T must be an (N x n_step) matrix\"\n",
        "    return np.c_[np.diff(T, axis=1)/365., np.zeros(T.shape[0])]\n",
        "\n",
        "\n",
        "def preprocess(X_raw, m_max=np.inf):\n",
        "    X = X_raw.copy()\n",
        "    print(X.shape)\n",
        "    wrong_units =  np.all(np.isnan(X[:, :, 1])) | (np.nanmax(X[:, :, 1], axis=1) > m_max)\n",
        "    X = X[~wrong_units, :, :]\n",
        "    X[:, :, 0] = times_to_lags(X[:, :, 0])\n",
        "    means = np.atleast_2d(np.nanmean(X[:, :, 1], axis=1)).T\n",
        "    X[:, :, 1] -= means\n",
        "    scales = np.atleast_2d(np.nanstd(X[:, :, 1], axis=1)).T\n",
        "    X[:, :, 1] /= scales\n",
        "    errors = X[:, :, 2] / scales\n",
        "    X = X[:, :, :2]\n",
        "    print(X.shape)\n",
        "    return X, means, scales, errors, wrong_units"
      ],
      "execution_count": null,
      "outputs": []
    },
    {
      "cell_type": "code",
      "metadata": {
        "id": "f2tV8sG_UKsE",
        "colab": {
          "base_uri": "https://localhost:8080/"
        },
        "outputId": "492485d4-ea27-40a9-ae63-8ad5f861b83f"
      },
      "source": [
        "lcs_scaled, means, scales, errors, wrong_units = preprocess(lcs_raw)"
      ],
      "execution_count": null,
      "outputs": [
        {
          "output_type": "stream",
          "text": [
            "(12, 553, 3)\n",
            "(12, 553, 2)\n"
          ],
          "name": "stdout"
        }
      ]
    },
    {
      "cell_type": "code",
      "metadata": {
        "colab": {
          "base_uri": "https://localhost:8080/"
        },
        "id": "-M-V0rlQwP9u",
        "outputId": "d42aea5e-7811-4fa9-d743-55f03a9cdbb1"
      },
      "source": [
        "print(lcs_scaled[0])"
      ],
      "execution_count": null,
      "outputs": [
        {
          "output_type": "stream",
          "text": [
            "[[ 0.0274376  -1.32299392]\n",
            " [ 0.01639758 -1.22907791]\n",
            " [ 0.00816169 -1.32114143]\n",
            " ...\n",
            " [        nan         nan]\n",
            " [        nan         nan]\n",
            " [ 0.                 nan]]\n"
          ],
          "name": "stdout"
        }
      ]
    },
    {
      "cell_type": "code",
      "metadata": {
        "colab": {
          "base_uri": "https://localhost:8080/"
        },
        "id": "EamNQcdpws09",
        "outputId": "67d60a15-8b92-44d2-f80d-0501c7d3a6ed"
      },
      "source": [
        "print(lcs_raw)"
      ],
      "execution_count": null,
      "outputs": [
        {
          "output_type": "stream",
          "text": [
            "[[[5.83044632e+04 1.77298660e+01 2.63450723e-02]\n",
            "  [5.83144779e+04 1.77579117e+01 2.67319083e-02]\n",
            "  [5.83204630e+04 1.77304192e+01 2.63526049e-02]\n",
            "  ...\n",
            "  [           nan            nan            nan]\n",
            "  [           nan            nan            nan]\n",
            "  [           nan            nan            nan]]\n",
            "\n",
            " [[5.82854420e+04 2.07285671e+01 1.67948842e-01]\n",
            "  [5.82914413e+04 2.08288326e+01 1.75302744e-01]\n",
            "  [5.82954452e+04 2.05564804e+01 1.55327201e-01]\n",
            "  ...\n",
            "  [           nan            nan            nan]\n",
            "  [           nan            nan            nan]\n",
            "  [           nan            nan            nan]]\n",
            "\n",
            " [[5.82051526e+04 1.83085155e+01 2.89182924e-02]\n",
            "  [5.82271864e+04 1.83583660e+01 2.98638903e-02]\n",
            "  [5.82351972e+04 1.83525734e+01 2.97518689e-02]\n",
            "  ...\n",
            "  [           nan            nan            nan]\n",
            "  [           nan            nan            nan]\n",
            "  [           nan            nan            nan]]\n",
            "\n",
            " ...\n",
            "\n",
            " [[5.82022764e+04 1.91161423e+01 6.09129816e-02]\n",
            "  [5.82052526e+04 1.90119324e+01 5.65505326e-02]\n",
            "  [5.82052715e+04 1.90686569e+01 5.88799305e-02]\n",
            "  ...\n",
            "  [           nan            nan            nan]\n",
            "  [           nan            nan            nan]\n",
            "  [           nan            nan            nan]]\n",
            "\n",
            " [[5.82023522e+04 1.86012840e+01 4.15020250e-02]\n",
            "  [5.82023580e+04 1.84944553e+01 3.85308228e-02]\n",
            "  [5.82023797e+04 1.85092716e+01 3.89264077e-02]\n",
            "  ...\n",
            "  [           nan            nan            nan]\n",
            "  [           nan            nan            nan]\n",
            "  [           nan            nan            nan]]\n",
            "\n",
            " [[5.82033936e+04 1.99617767e+01 1.21098943e-01]\n",
            "  [5.82034042e+04 1.97318878e+01 1.03340052e-01]\n",
            "  [5.82044149e+04 1.96667957e+01 9.86799896e-02]\n",
            "  ...\n",
            "  [           nan            nan            nan]\n",
            "  [           nan            nan            nan]\n",
            "  [           nan            nan            nan]]]\n"
          ],
          "name": "stdout"
        }
      ]
    },
    {
      "cell_type": "code",
      "metadata": {
        "id": "_WNSpKRif36C"
      },
      "source": [
        "main_input = Input(shape=(lcs_scaled.shape[1], 2), name='main_input') #(lag, mag)\n",
        "aux_input = Input(shape=(lcs_scaled.shape[1], 1), name='aux_input') #(lag)\n",
        "model_input = [main_input, aux_input]"
      ],
      "execution_count": null,
      "outputs": []
    },
    {
      "cell_type": "code",
      "metadata": {
        "id": "ar51AzPlf7y5"
      },
      "source": [
        "sample_weight = 1. / errors\n",
        "sample_weight[np.isnan(sample_weight)] = 0.0\n",
        "lcs_scaled[np.isnan(lcs_scaled)] = 0."
      ],
      "execution_count": null,
      "outputs": []
    },
    {
      "cell_type": "markdown",
      "metadata": {
        "id": "bL7utdlaYC8D"
      },
      "source": [
        "##Reading the VAE model \n",
        "\n",
        "- Use the following cells to read the model weights from the local folder."
      ]
    },
    {
      "cell_type": "code",
      "metadata": {
        "id": "fDci4EvGxcjE"
      },
      "source": [
        "def sampling(samp_args):\n",
        "    z_mean, z_log_sigma = samp_args\n",
        "\n",
        "    batch = K.shape(z_mean)[0]\n",
        "    dim = K.int_shape(z_mean)[1]\n",
        "    # by default, random_normal has mean = 0 and std = 1.0\n",
        "    epsilon = K.random_normal(shape=(batch, dim))\n",
        "    return z_mean + K.exp(0.5 * z_log_sigma) * epsilon"
      ],
      "execution_count": null,
      "outputs": []
    },
    {
      "cell_type": "code",
      "metadata": {
        "id": "ivKczcQOYIWE",
        "colab": {
          "base_uri": "https://localhost:8080/"
        },
        "outputId": "9776aa57-b777-456e-9430-7524de5bd5a9"
      },
      "source": [
        "lr = 1e-4 #learning rate \n",
        "optimizer = Adam(lr=lr)\n",
        "output_size=16\n",
        "gru_size = 32\n",
        "nepochs = 2000\n",
        "batchsize = 512\n",
        "dropout_val = 0.25\n",
        "\n",
        "\n",
        "#encoder\n",
        "encoder = Bidirectional(GRU(gru_size, name='encoder1', return_sequences=True))(main_input)\n",
        "encoder = Dropout(dropout_val, name='drop_encoder1')(encoder) \n",
        "encoder = Bidirectional(GRU(gru_size, name='encoder2', return_sequences=False))(encoder)\n",
        "encoder = Dropout(dropout_val, name='drop_encoder2')(encoder)\n",
        "codings_mean = Dense(units=output_size, name='encoding_mean', activation='linear')(encoder)\n",
        "codings_log_var = Dense(units=output_size, name='encoding_log_var', activation='linear')(encoder) \n",
        "codings = Lambda(sampling, output_shape=(output_size,))([codings_mean, codings_log_var])\n",
        "\n",
        "\n",
        "#decoder\n",
        "decoder = RepeatVector(lcs_scaled.shape[1], name='repeat')(codings)\n",
        "decoder = merge.concatenate([aux_input, decoder])\n",
        "decoder = GRU(gru_size, name='decoder1', return_sequences=True)(decoder)\n",
        "decoder = Dropout(dropout_val, name='drop_decoder1')(decoder)\n",
        "decoder = GRU(gru_size, name='decoder2', return_sequences=True)(decoder)\n",
        "decoder = TimeDistributed(Dense(1, activation='linear'), name='time_dist')(decoder)\n",
        "\n",
        "#VAE\n",
        "model = Model(model_input, decoder)\n"
      ],
      "execution_count": null,
      "outputs": [
        {
          "output_type": "stream",
          "text": [
            "/usr/local/lib/python3.7/dist-packages/tensorflow/python/keras/optimizer_v2/optimizer_v2.py:375: UserWarning: The `lr` argument is deprecated, use `learning_rate` instead.\n",
            "  \"The `lr` argument is deprecated, use `learning_rate` instead.\")\n"
          ],
          "name": "stderr"
        }
      ]
    },
    {
      "cell_type": "code",
      "metadata": {
        "id": "JV3ZMI3wYmih",
        "colab": {
          "base_uri": "https://localhost:8080/"
        },
        "outputId": "cc88b426-c73a-4ec1-d727-ef0d6f43179b"
      },
      "source": [
        "log_dir = '/content/drive/MyDrive/CSAGNs/models_DR5/VAE_psDR5_SDSS_QSO_balanced_detprop_GRU2x32-encoding16_gband/'\n",
        "weights_path = os.path.join(log_dir, 'weights_lr1e3_4paper.h5')\n",
        "\n",
        "lr = 1e-3 #learning rate \n",
        "optimizer = Adam(lr=lr)\n",
        "\n",
        "model.load_weights(weights_path)\n",
        "\n",
        "latent_loss = -0.5*K.sum(1+codings_log_var-K.exp(codings_log_var)-K.square(codings_mean),axis=-1)\n",
        "model.add_loss(K.mean(latent_loss)/200.)\n",
        "model.compile(optimizer=optimizer, loss='mse',  metrics=[tf.keras.metrics.MeanAbsoluteError()], weighted_metrics=[tf.keras.metrics.MeanAbsoluteError()], sample_weight_mode='temporal')#,run_eagerly=True)\n",
        "\n",
        "#model.compile(optimizer=optimizer, loss='mse',  sample_weight_mode='temporal')"
      ],
      "execution_count": null,
      "outputs": [
        {
          "output_type": "stream",
          "text": [
            "/usr/local/lib/python3.7/dist-packages/tensorflow/python/keras/optimizer_v2/optimizer_v2.py:375: UserWarning: The `lr` argument is deprecated, use `learning_rate` instead.\n",
            "  \"The `lr` argument is deprecated, use `learning_rate` instead.\")\n"
          ],
          "name": "stderr"
        }
      ]
    },
    {
      "cell_type": "code",
      "metadata": {
        "id": "3jRTM8xIxy1U",
        "colab": {
          "base_uri": "https://localhost:8080/"
        },
        "outputId": "0c3bf3fa-d813-43df-dca8-beb3ba921e79"
      },
      "source": [
        "model.summary()"
      ],
      "execution_count": null,
      "outputs": [
        {
          "output_type": "stream",
          "text": [
            "Model: \"model\"\n",
            "__________________________________________________________________________________________________\n",
            "Layer (type)                    Output Shape         Param #     Connected to                     \n",
            "==================================================================================================\n",
            "main_input (InputLayer)         [(None, 553, 2)]     0                                            \n",
            "__________________________________________________________________________________________________\n",
            "bidirectional (Bidirectional)   (None, 553, 64)      6912        main_input[0][0]                 \n",
            "__________________________________________________________________________________________________\n",
            "drop_encoder1 (Dropout)         (None, 553, 64)      0           bidirectional[0][0]              \n",
            "__________________________________________________________________________________________________\n",
            "bidirectional_1 (Bidirectional) (None, 64)           18816       drop_encoder1[0][0]              \n",
            "__________________________________________________________________________________________________\n",
            "drop_encoder2 (Dropout)         (None, 64)           0           bidirectional_1[0][0]            \n",
            "__________________________________________________________________________________________________\n",
            "encoding_mean (Dense)           (None, 16)           1040        drop_encoder2[0][0]              \n",
            "__________________________________________________________________________________________________\n",
            "encoding_log_var (Dense)        (None, 16)           1040        drop_encoder2[0][0]              \n",
            "__________________________________________________________________________________________________\n",
            "lambda (Lambda)                 (None, 16)           0           encoding_mean[0][0]              \n",
            "                                                                 encoding_log_var[0][0]           \n",
            "__________________________________________________________________________________________________\n",
            "aux_input (InputLayer)          [(None, 553, 1)]     0                                            \n",
            "__________________________________________________________________________________________________\n",
            "repeat (RepeatVector)           (None, 553, 16)      0           lambda[0][0]                     \n",
            "__________________________________________________________________________________________________\n",
            "concatenate (Concatenate)       (None, 553, 17)      0           aux_input[0][0]                  \n",
            "                                                                 repeat[0][0]                     \n",
            "__________________________________________________________________________________________________\n",
            "decoder1 (GRU)                  (None, 553, 32)      4896        concatenate[0][0]                \n",
            "__________________________________________________________________________________________________\n",
            "drop_decoder1 (Dropout)         (None, 553, 32)      0           decoder1[0][0]                   \n",
            "__________________________________________________________________________________________________\n",
            "decoder2 (GRU)                  (None, 553, 32)      6336        drop_decoder1[0][0]              \n",
            "__________________________________________________________________________________________________\n",
            "time_dist (TimeDistributed)     (None, 553, 1)       33          decoder2[0][0]                   \n",
            "__________________________________________________________________________________________________\n",
            "tf.__operators__.add (TFOpLambd (None, 16)           0           encoding_log_var[0][0]           \n",
            "__________________________________________________________________________________________________\n",
            "tf.math.exp (TFOpLambda)        (None, 16)           0           encoding_log_var[0][0]           \n",
            "__________________________________________________________________________________________________\n",
            "tf.math.subtract (TFOpLambda)   (None, 16)           0           tf.__operators__.add[0][0]       \n",
            "                                                                 tf.math.exp[0][0]                \n",
            "__________________________________________________________________________________________________\n",
            "tf.math.square (TFOpLambda)     (None, 16)           0           encoding_mean[0][0]              \n",
            "__________________________________________________________________________________________________\n",
            "tf.math.subtract_1 (TFOpLambda) (None, 16)           0           tf.math.subtract[0][0]           \n",
            "                                                                 tf.math.square[0][0]             \n",
            "__________________________________________________________________________________________________\n",
            "tf.math.reduce_sum (TFOpLambda) (None,)              0           tf.math.subtract_1[0][0]         \n",
            "__________________________________________________________________________________________________\n",
            "tf.math.multiply (TFOpLambda)   (None,)              0           tf.math.reduce_sum[0][0]         \n",
            "__________________________________________________________________________________________________\n",
            "tf.math.reduce_mean (TFOpLambda ()                   0           tf.math.multiply[0][0]           \n",
            "__________________________________________________________________________________________________\n",
            "tf.math.truediv (TFOpLambda)    ()                   0           tf.math.reduce_mean[0][0]        \n",
            "__________________________________________________________________________________________________\n",
            "add_loss (AddLoss)              ()                   0           tf.math.truediv[0][0]            \n",
            "==================================================================================================\n",
            "Total params: 39,073\n",
            "Trainable params: 39,073\n",
            "Non-trainable params: 0\n",
            "__________________________________________________________________________________________________\n"
          ],
          "name": "stdout"
        }
      ]
    },
    {
      "cell_type": "markdown",
      "metadata": {
        "id": "wYTuVJBEZJci"
      },
      "source": [
        "Dividing the model into the encoding and the decoding parts, and getting encoded features and decoded light curves"
      ]
    },
    {
      "cell_type": "code",
      "metadata": {
        "id": "IQWgFXsdYmXc"
      },
      "source": [
        "\n",
        "decode_model = Model(model.input, model.output)\n",
        "\n",
        "encode_mean = Model(model.input, model.get_layer('encoding_mean').output)\n",
        "encode_log_var = Model(model.input, model.get_layer('encoding_log_var').output)"
      ],
      "execution_count": null,
      "outputs": []
    },
    {
      "cell_type": "code",
      "metadata": {
        "id": "OrZbUXs3DWpx"
      },
      "source": [
        "encoding_mean = encode_mean.predict({'main_input': lcs_scaled, 'aux_input': np.delete(lcs_scaled, 1, axis=2)})\n",
        "encoding_log_var = encode_log_var.predict({'main_input': lcs_scaled, 'aux_input': np.delete(lcs_scaled, 1, axis=2)})\n"
      ],
      "execution_count": null,
      "outputs": []
    },
    {
      "cell_type": "code",
      "metadata": {
        "id": "Qxb5ZxY8M6Zk",
        "colab": {
          "base_uri": "https://localhost:8080/"
        },
        "outputId": "02d65a31-1491-45b5-cafe-a3825779975d"
      },
      "source": [
        "decoding_10 = []\n",
        "\n",
        "for i in range(10):\n",
        "  decoding_aux = decode_model.predict({'main_input': lcs_scaled, 'aux_input': np.delete(lcs_scaled, 1, axis=2)})\n",
        "  decoding_10.append(decoding_aux)\n",
        "\n",
        "  #if i%10 == 0:\n",
        "  print('.', end='')\n",
        "\n",
        "decoding_10 = np.array(decoding_10)\n"
      ],
      "execution_count": null,
      "outputs": [
        {
          "output_type": "stream",
          "text": [
            ".........."
          ],
          "name": "stdout"
        }
      ]
    },
    {
      "cell_type": "code",
      "metadata": {
        "id": "KQcsaNMCQoPf"
      },
      "source": [
        "decoding_median = np.nanmedian(decoding_10,axis=0)\n",
        "decoding_mean = np.nanmean(decoding_10,axis=0)\n",
        "decoding_std = np.nanstd(decoding_10,axis=0)\n",
        "decoding_low = np.nanmin(decoding_10,axis=0)\n",
        "decoding_high = np.nanmax(decoding_10,axis=0)"
      ],
      "execution_count": null,
      "outputs": []
    },
    {
      "cell_type": "code",
      "metadata": {
        "id": "DQ2SUAaGVts_",
        "colab": {
          "base_uri": "https://localhost:8080/"
        },
        "outputId": "c4d8b688-e4b4-49a7-91d1-e00db3e9e7c9"
      },
      "source": [
        "print(len(decoding_mean))"
      ],
      "execution_count": null,
      "outputs": [
        {
          "output_type": "stream",
          "text": [
            "12\n"
          ],
          "name": "stdout"
        }
      ]
    },
    {
      "cell_type": "code",
      "metadata": {
        "colab": {
          "base_uri": "https://localhost:8080/"
        },
        "id": "ZtdEEXJ-xVky",
        "outputId": "5ce328a6-6532-47d1-ec3c-57b602c9d3a8"
      },
      "source": [
        "print(decoding_mean)"
      ],
      "execution_count": null,
      "outputs": [
        {
          "output_type": "stream",
          "text": [
            "[[[-1.3452377 ]\n",
            "  [-1.2819171 ]\n",
            "  [-1.1893532 ]\n",
            "  ...\n",
            "  [ 0.4037822 ]\n",
            "  [ 0.40285158]\n",
            "  [ 0.40189585]]\n",
            "\n",
            " [[ 0.95807916]\n",
            "  [ 1.0807153 ]\n",
            "  [ 1.0773938 ]\n",
            "  ...\n",
            "  [ 0.63667834]\n",
            "  [ 0.635362  ]\n",
            "  [ 0.6339913 ]]\n",
            "\n",
            " [[ 1.1794708 ]\n",
            "  [ 1.9041517 ]\n",
            "  [ 1.9443327 ]\n",
            "  ...\n",
            "  [ 0.64011186]\n",
            "  [ 0.6418788 ]\n",
            "  [ 0.64364433]]\n",
            "\n",
            " ...\n",
            "\n",
            " [[ 0.99415624]\n",
            "  [ 1.2933311 ]\n",
            "  [ 1.3490678 ]\n",
            "  ...\n",
            "  [ 0.4375817 ]\n",
            "  [ 0.43816406]\n",
            "  [ 0.43882266]]\n",
            "\n",
            " [[ 0.70596933]\n",
            "  [ 0.5706465 ]\n",
            "  [ 0.5692497 ]\n",
            "  ...\n",
            "  [-1.538688  ]\n",
            "  [-1.5326986 ]\n",
            "  [-1.5262944 ]]\n",
            "\n",
            " [[-0.46400413]\n",
            "  [-0.4706745 ]\n",
            "  [-0.46229973]\n",
            "  ...\n",
            "  [ 0.66359365]\n",
            "  [ 0.6728534 ]\n",
            "  [ 0.67904305]]]\n"
          ],
          "name": "stdout"
        }
      ]
    },
    {
      "cell_type": "markdown",
      "metadata": {
        "id": "3xfGaBXOZWJD"
      },
      "source": [
        "Computing reduced chi-square distribution "
      ]
    },
    {
      "cell_type": "code",
      "metadata": {
        "id": "uBikZ5NEZVx8",
        "colab": {
          "base_uri": "https://localhost:8080/"
        },
        "outputId": "238132cd-7b95-4d9e-f195-d467b6d53ccd"
      },
      "source": [
        "def calc_redchisq(x, x_pred, weight, x_pred_err):\n",
        "    mask =  (~np.isnan(weight))\n",
        "    out = np.sum((((x[mask]-x_pred[mask]))**2)/(weight[mask]**-2+x_pred_err[mask]**2))/len(weight[mask])\n",
        "    return out\n",
        "\n",
        "RedChiSq = []\n",
        "print('Caluculating reduced chi-square for each source')\n",
        "for m in range(0, len(lcs_raw)):\n",
        "    if m%100 == 0:\n",
        "        print('.', end='')\n",
        "    RedChiSq.append(calc_redchisq(lcs_scaled[m][:,1]*scales[m]+means[m], np.squeeze(decoding_mean[m]*scales[m]+means[m]), 1/lcs_raw[m][:,2],np.squeeze(decoding_std[m]*scales[m])))"
      ],
      "execution_count": null,
      "outputs": [
        {
          "output_type": "stream",
          "text": [
            "Caluculating reduced chi-square for each source\n",
            "."
          ],
          "name": "stdout"
        }
      ]
    },
    {
      "cell_type": "code",
      "metadata": {
        "id": "Cit_s8Jpzz_l",
        "colab": {
          "base_uri": "https://localhost:8080/"
        },
        "outputId": "6ea8721b-2afd-4625-ece0-dd1053c502f0"
      },
      "source": [
        "print(RedChiSq)"
      ],
      "execution_count": null,
      "outputs": [
        {
          "output_type": "stream",
          "text": [
            "[2.741926403227124, 2.690126018881052, 3.146674972394374, 1.1276919689786755, 1.701624086692311, 1.1414807549166295, 3.786827609950153, 18.390550368965272, 2.983600174339058, 1.891484241045782, 4.831880155000056, 1.319464847285751]\n"
          ],
          "name": "stdout"
        }
      ]
    },
    {
      "cell_type": "code",
      "metadata": {
        "id": "HAsQA65KZtBz",
        "colab": {
          "base_uri": "https://localhost:8080/",
          "height": 369
        },
        "outputId": "1738e843-4af7-4237-e522-b842cca89082"
      },
      "source": [
        "plt.figure(figsize=(6,5))\n",
        "plt.hist(np.array(RedChiSq)[~np.isnan(RedChiSq)], \n",
        "         bins=10**np.arange(-1, 3, 0.1))\n",
        "plt.xscale('log')\n",
        "plt.xlabel(r'$\\chi_{{\\rm red}}^2$', fontsize=15)\n",
        "plt.ylabel('Number of sources', fontsize=15)\n",
        "plt.title('full dataset', fontsize=15)\n",
        "plt.tight_layout()\n",
        "plt.show()"
      ],
      "execution_count": null,
      "outputs": [
        {
          "output_type": "display_data",
          "data": {
            "image/png": "[encoded data removed]",
            "text/plain": [
              "<Figure size 432x360 with 1 Axes>"
            ]
          },
          "metadata": {
            "tags": [],
            "needs_background": "light"
          }
        }
      ]
    },
    {
      "cell_type": "markdown",
      "metadata": {
        "id": "J_oOSVaEaAc6"
      },
      "source": [
        " Example of sources showing a large $\\chi_{\\rm red}^2$"
      ]
    },
    {
      "cell_type": "code",
      "metadata": {
        "id": "YX6-zgJDZs2N"
      },
      "source": [
        "len_list = []\n",
        "for i in range(0,len(lcs)):\n",
        "    len_list.append(len(lcs[i]))\n",
        "\n",
        "chi_mask = np.array(RedChiSq) >=0"
      ],
      "execution_count": null,
      "outputs": []
    },
    {
      "cell_type": "code",
      "metadata": {
        "id": "8rYzJltCaD3a",
        "colab": {
          "base_uri": "https://localhost:8080/",
          "height": 297
        },
        "outputId": "a0ca3f39-e366-49e9-ebef-82fd4007fbf2"
      },
      "source": [
        "plt.figure(figsize=(12, 4))\n",
        "plt.subplot(1,3,1)\n",
        "plt.hist(np.array(len_list)[~chi_mask], bins=np.arange(50, 800, 5), alpha=0.5)\n",
        "plt.hist(np.array(len_list)[chi_mask], bins=np.arange(50, 800, 5), alpha=0.5)\n",
        "plt.xlabel('Data Length', fontsize=15)\n",
        "plt.ylabel('Number of sources', fontsize=15)\n",
        "plt.subplot(1,3,2)\n",
        "plt.scatter(len_list, RedChiSq, alpha=1, s=0.25, color='black')\n",
        "plt.xlabel('Data Length', fontsize=15)\n",
        "plt.ylabel(r'$\\chi_{{\\rm red}}^2$', fontsize=15)\n",
        "plt.ylim(1e-1, 1e3)\n",
        "plt.yscale('log')\n",
        "plt.subplot(1,3,3)\n",
        "plt.scatter(np.nanmean(lcs_raw[:, :, 1], axis=1), RedChiSq, alpha=1, s=0.25, color='black')\n",
        "plt.xlabel('Magnitude', fontsize=15)\n",
        "plt.ylabel(r'$\\chi_{{\\rm red}}^2$', fontsize=15)\n",
        "plt.ylim(1e-1, 1e3);plt.xlim(16, 21)\n",
        "plt.yscale('log')\n",
        "plt.tight_layout()\n",
        "plt.show()"
      ],
      "execution_count": null,
      "outputs": [
        {
          "output_type": "display_data",
          "data": {
            "image/png": "[encoded data removed]",
            "text/plain": [
              "<Figure size 864x288 with 3 Axes>"
            ]
          },
          "metadata": {
            "tags": [],
            "needs_background": "light"
          }
        }
      ]
    },
    {
      "cell_type": "code",
      "metadata": {
        "id": "wxeVw82KaErp"
      },
      "source": [
        "len_mask = (np.array(len_list)>=50) & (np.array(len_list)<1200)\n",
        "bad_fitting_mask = len_mask&chi_mask\n"
      ],
      "execution_count": null,
      "outputs": []
    },
    {
      "cell_type": "code",
      "metadata": {
        "id": "TGzFC67OeysD"
      },
      "source": [
        "oids_all = np.array(oids_fids)[:,0]\n",
        "#print(oids_all)"
      ],
      "execution_count": null,
      "outputs": []
    },
    {
      "cell_type": "code",
      "metadata": {
        "id": "otWFVBpUNXgj",
        "colab": {
          "base_uri": "https://localhost:8080/"
        },
        "outputId": "8ead2db8-e323-4be4-a546-f4726607bf96"
      },
      "source": [
        "encoding_val = encoding_mean[bad_fitting_mask]\n",
        "decoding_val_mean = decoding_mean[bad_fitting_mask]\n",
        "decoding_val_std = decoding_std[bad_fitting_mask]\n",
        "\n",
        "decoding_val_median = decoding_median[bad_fitting_mask]\n",
        "decoding_val_low = decoding_low[bad_fitting_mask]\n",
        "decoding_val_high = decoding_high[bad_fitting_mask]\n",
        "\n",
        "X_raw_val = lcs_raw[bad_fitting_mask ]\n",
        "X_val = lcs_scaled[bad_fitting_mask ]\n",
        "scales_val = scales[bad_fitting_mask ]\n",
        "means_val = means[bad_fitting_mask ]\n",
        "oids_val = oids_all[bad_fitting_mask]\n",
        "print(len(encoding_val))"
      ],
      "execution_count": null,
      "outputs": [
        {
          "output_type": "stream",
          "text": [
            "12\n"
          ],
          "name": "stdout"
        }
      ]
    },
    {
      "cell_type": "code",
      "metadata": {
        "colab": {
          "base_uri": "https://localhost:8080/"
        },
        "id": "zZKaZ7GRBc2t",
        "outputId": "d50a9ff2-8cec-45f9-9dfa-4e8501ac734b"
      },
      "source": [
        "print(oids_val)"
      ],
      "execution_count": null,
      "outputs": [
        {
          "output_type": "stream",
          "text": [
            "[451103200005537 495111100005833 566112100004425 646113100002570\n",
            " 648101400002016 649113400004567 674113200005713 678115400001961\n",
            " 693106300007466 712112100003746 719114100002677 795106100002111]\n"
          ],
          "name": "stdout"
        }
      ]
    },
    {
      "cell_type": "code",
      "metadata": {
        "colab": {
          "base_uri": "https://localhost:8080/",
          "height": 534
        },
        "id": "QhCnJVY4PoBq",
        "outputId": "81929540-b59f-4d71-854f-3523aa4325b9"
      },
      "source": [
        "fignum = 6#6,3\n",
        "i = 0\n",
        "k=0\n",
        "fig = plt.figure(figsize=(24,8))#plt.figure(figsize=(11,4))#plt.figure(figsize=(25,9))\n",
        "\n",
        "#ids =  [3,4,9,0,1,2]#[0,1,2,3,4,5]#np.random.randint(0,10000, size=6)\n",
        "#ids2 =  [5,6,7,8,10,11]#[6,7,8,9,10,11]#np.random.randint(0,10000, size=6)\n",
        "\n",
        "#plotting raw-lightcurves and the decoded lightcurves \n",
        "#for num in [3,4,9]:\n",
        "for num in range(i,i+fignum):\n",
        "    ax= fig.add_subplot(2,fignum, k+1)\n",
        "    #print(X_raw_val[num][:,0])\n",
        "    #print(365.0*np.cumsum(X_val[num][:, 0][X_val[num][:, 0]>0]))\n",
        "    print(oids_val[num])\n",
        "    #print((decoding_val_low[num][X_val[num][:, 0]>0]*scales_val[num]+means_val[num]).flatten())\n",
        "    ax.set_title(oids_val[num],fontsize=20)\n",
        "    ax.errorbar(X_raw_val[num][:,0], X_raw_val[num][:,1], yerr=X_raw_val[num][:, 2], fmt='o', color='black', ms=3)\n",
        "    ax.errorbar(365.0*np.cumsum(X_val[num][:, 0][X_val[num][:, 0]>0])+X_raw_val[num][0,0], \n",
        "             decoding_val_mean[num][X_val[num][:, 0]>0]*scales_val[num]+means_val[num], yerr=(decoding_val_std[num][X_val[num][:, 0]>0]*scales_val[num]).flatten(), fmt='.', color='red', ms=3)\n",
        "    ax.fill_between(365.0*np.cumsum(X_val[num][:, 0][X_val[num][:, 0]>0])+X_raw_val[num][0,0], (decoding_val_low[num][X_val[num][:, 0]>0]*scales_val[num]+means_val[num]).flatten(), (decoding_val_high[num][X_val[num][:, 0]>0]*scales_val[num]+means_val[num]).flatten(),alpha=0.2,  facecolor='#D42F4B')\n",
        "    ax.set_ylim(plt.ylim()[::-1])\n",
        "    ax.set_xlabel('MJD',fontsize=20)\n",
        "    ax.set_ylabel('magnitude',fontsize=20)\n",
        "    ax.tick_params(axis='both', which='major', labelsize=14)\n",
        "    \n",
        "    k += 1\n",
        "\n",
        "i = fignum\n",
        "\n",
        "#for num in ids2:\n",
        "for num in range(i,i+fignum):\n",
        "    ax= fig.add_subplot(2,fignum, k+1)\n",
        "    #print(X_raw_val[num][:,0])\n",
        "    #print(365.0*np.cumsum(X_val[num][:, 0][X_val[num][:, 0]>0]))\n",
        "    #print(oids_val[num])\n",
        "    #print((decoding_val_low[num][X_val[num][:, 0]>0]*scales_val[num]+means_val[num]).flatten())\n",
        "    ax.set_title(oids_val[num],fontsize=20)\n",
        "    ax.errorbar(X_raw_val[num][:,0], X_raw_val[num][:,1], yerr=X_raw_val[num][:, 2], fmt='o', color='black', ms=3)\n",
        "    ax.errorbar(365.0*np.cumsum(X_val[num][:, 0][X_val[num][:, 0]>0])+X_raw_val[num][0,0], \n",
        "             decoding_val_mean[num][X_val[num][:, 0]>0]*scales_val[num]+means_val[num], yerr=(decoding_val_std[num][X_val[num][:, 0]>0]*scales_val[num]).flatten(), fmt='.', color='red', ms=3)\n",
        "    ax.fill_between(365.0*np.cumsum(X_val[num][:, 0][X_val[num][:, 0]>0])+X_raw_val[num][0,0], (decoding_val_low[num][X_val[num][:, 0]>0]*scales_val[num]+means_val[num]).flatten(), (decoding_val_high[num][X_val[num][:, 0]>0]*scales_val[num]+means_val[num]).flatten(),alpha=0.2,  facecolor='#D42F4B')\n",
        "    ax.set_ylim(plt.ylim()[::-1])\n",
        "    ax.set_xlabel('MJD',fontsize=20)\n",
        "    ax.set_ylabel('magnitude',fontsize=20)\n",
        "    ax.tick_params(axis='both', which='major', labelsize=15)\n",
        "    \n",
        "    k += 1\n",
        "\n",
        "plt.tight_layout()\n",
        "plt.savefig('/content/drive/MyDrive/CSAGNs/plots_4paper/recent_sdss_spec_sample_modeling.pdf')\n"
      ],
      "execution_count": null,
      "outputs": [
        {
          "output_type": "stream",
          "text": [
            "451103200005537\n",
            "495111100005833\n",
            "566112100004425\n",
            "646113100002570\n",
            "648101400002016\n",
            "649113400004567\n"
          ],
          "name": "stdout"
        },
        {
          "output_type": "display_data",
          "data": {
            "image/png": "[encoded data removed]",
            "text/plain": [
              "<Figure size 1728x576 with 12 Axes>"
            ]
          },
          "metadata": {
            "tags": [],
            "needs_background": "light"
          }
        }
      ]
    },
    {
      "cell_type": "code",
      "metadata": {
        "colab": {
          "base_uri": "https://localhost:8080/",
          "height": 137
        },
        "id": "wIJ5lpDx_2N4",
        "outputId": "78513ba3-a26b-4dda-d0a2-0ccc41865c73"
      },
      "source": [
        "'''oid_ZTF = [\"ZTF19abvgxrq\",\"ZTF19aaiqmgl\",\"ZTF18aaabltn\",\"ZTF18aaabltn\",\"ZTF19aatubsj\",\"ZTF18aaidlyq\",\n",
        "           \"ZTF18aahiqfi\",\"ZTF18aajupnt\",\"ZTF18aasszwr\",\"ZTF18aasuray\",\"ZTF18abjjkeo\"]\n",
        "\n",
        "fignum = 6\n",
        "i = 0\n",
        "k=0\n",
        "fig = plt.figure(figsize=(25, 9))\n",
        "\n",
        "\n",
        "#plotting raw-lightcurves and the decoded lightcurves \n",
        "for num in range(i,i+fignum):\n",
        "    ax= fig.add_subplot(2, fignum, k+1)\n",
        "    #print(X_raw_val[num][:,0])\n",
        "    #print(365.0*np.cumsum(X_val[num][:, 0][X_val[num][:, 0]>0]))\n",
        "    #print(oids_val[num])\n",
        "    #print((decoding_val_low[num][X_val[num][:, 0]>0]*scales_val[num]+means_val[num]).flatten())\n",
        "    ax.set_title(oid_ZTF[num],fontsize=20)\n",
        "    ax.errorbar(X_raw_val[num][:,0], X_raw_val[num][:,1], yerr=X_raw_val[num][:, 2], fmt='o', color='black', ms=3)\n",
        "    ax.errorbar(365.0*np.cumsum(X_val[num][:, 0][X_val[num][:, 0]>0])+X_raw_val[num][0,0], \n",
        "             decoding_val_mean[num][X_val[num][:, 0]>0]*scales_val[num]+means_val[num], yerr=(decoding_val_std[num][X_val[num][:, 0]>0]*scales_val[num]).flatten(), fmt='.', color='red', ms=3)\n",
        "    ax.fill_between(365.0*np.cumsum(X_val[num][:, 0][X_val[num][:, 0]>0])+X_raw_val[num][0,0], (decoding_val_low[num][X_val[num][:, 0]>0]*scales_val[num]+means_val[num]).flatten(), (decoding_val_high[num][X_val[num][:, 0]>0]*scales_val[num]+means_val[num]).flatten(),alpha=0.2,  facecolor='#D42F4B')\n",
        "    ax.set_ylim(plt.ylim()[::-1])\n",
        "    #ax.set_xlabel('MJD',fontsize=20)\n",
        "    if k==0: ax.set_ylabel('magnitude',fontsize=18)\n",
        "    ax.tick_params(axis='both', which='major', labelsize=14)\n",
        "    \n",
        "    k += 1\n",
        "\n",
        "\n",
        "#fig = plt.figure(figsize=(18, 4))\n",
        "\n",
        "i = fignum\n",
        "#fignum = 5\n",
        "\n",
        "#k=0\n",
        "for num in range(i,i+fignum):\n",
        "  try:\n",
        "    ax= fig.add_subplot(2, fignum, k+1)\n",
        "    print(oids_val[num])\n",
        "    ax.set_title(oid_ZTF[num],fontsize=20)\n",
        "    ax.errorbar(X_raw_val[num][:,0], X_raw_val[num][:,1], yerr=X_raw_val[num][:, 2], fmt='o', color='black', ms=3)\n",
        "    ax.errorbar(365.0*np.cumsum(X_val[num][:, 0][X_val[num][:, 0]>0])+X_raw_val[num][0,0], \n",
        "            decoding_val_mean[num][X_val[num][:, 0]>0]*scales_val[num]+means_val[num], yerr=(decoding_val_std[num][X_val[num][:, 0]>0]*scales_val[num]).flatten(), fmt='.', color='red', ms=3)\n",
        "    ax.fill_between(365.0*np.cumsum(X_val[num][:, 0][X_val[num][:, 0]>0])+X_raw_val[num][0,0], (decoding_val_low[num][X_val[num][:, 0]>0]*scales_val[num]+means_val[num]).flatten(), (decoding_val_high[num][X_val[num][:, 0]>0]*scales_val[num]+means_val[num]).flatten(),alpha=0.2,  facecolor='#D42F4B')\n",
        "    ax.set_ylim(plt.ylim()[::-1])\n",
        "    ax.set_xlabel('MJD',fontsize=18)\n",
        "    if k==6: ax.set_ylabel('magnitude',fontsize=18)\n",
        "    ax.tick_params(axis='both', which='major', labelsize=14)\n",
        "    k += 1\n",
        "  except: \n",
        "    print(\"not plot\")\n",
        "    ax= fig.add_subplot(2, fignum, k+1)\n",
        "    fig.delaxes(ax)\n",
        "\n",
        "plt.tight_layout()\n",
        "\n",
        "plt.savefig('/content/drive/MyDrive/CSAGNs/plots_4paper/Frederick_sample_modeling.pdf')\n",
        "'''"
      ],
      "execution_count": null,
      "outputs": [
        {
          "output_type": "execute_result",
          "data": {
            "application/vnd.google.colaboratory.intrinsic+json": {
              "type": "string"
            },
            "text/plain": [
              "'oid_ZTF = [\"ZTF19abvgxrq\",\"ZTF19aaiqmgl\",\"ZTF18aaabltn\",\"ZTF18aaabltn\",\"ZTF19aatubsj\",\"ZTF18aaidlyq\",\\n           \"ZTF18aahiqfi\",\"ZTF18aajupnt\",\"ZTF18aasszwr\",\"ZTF18aasuray\",\"ZTF18abjjkeo\"]\\n\\nfignum = 6\\ni = 0\\nk=0\\nfig = plt.figure(figsize=(25, 9))\\n\\n\\n#plotting raw-lightcurves and the decoded lightcurves \\nfor num in range(i,i+fignum):\\n    ax= fig.add_subplot(2, fignum, k+1)\\n    #print(X_raw_val[num][:,0])\\n    #print(365.0*np.cumsum(X_val[num][:, 0][X_val[num][:, 0]>0]))\\n    #print(oids_val[num])\\n    #print((decoding_val_low[num][X_val[num][:, 0]>0]*scales_val[num]+means_val[num]).flatten())\\n    ax.set_title(oid_ZTF[num],fontsize=20)\\n    ax.errorbar(X_raw_val[num][:,0], X_raw_val[num][:,1], yerr=X_raw_val[num][:, 2], fmt=\\'o\\', color=\\'black\\', ms=3)\\n    ax.errorbar(365.0*np.cumsum(X_val[num][:, 0][X_val[num][:, 0]>0])+X_raw_val[num][0,0], \\n             decoding_val_mean[num][X_val[num][:, 0]>0]*scales_val[num]+means_val[num], yerr=(decoding_val_std[num][X_val[num][:, 0]>0]*scales_val[num]).flatten(), fmt=\\'.\\', color=\\'red\\', ms=3)\\n    ax.fill_between(365.0*np.cumsum(X_val[num][:, 0][X_val[num][:, 0]>0])+X_raw_val[num][0,0], (decoding_val_low[num][X_val[num][:, 0]>0]*scales_val[num]+means_val[num]).flatten(), (decoding_val_high[num][X_val[num][:, 0]>0]*scales_val[num]+means_val[num]).flatten(),alpha=0.2,  facecolor=\\'#D42F4B\\')\\n    ax.set_ylim(plt.ylim()[::-1])\\n    #ax.set_xlabel(\\'MJD\\',fontsize=20)\\n    if k==0: ax.set_ylabel(\\'magnitude\\',fontsize=18)\\n    ax.tick_params(axis=\\'both\\', which=\\'major\\', labelsize=14)\\n    \\n    k += 1\\n\\n\\n#fig = plt.figure(figsize=(18, 4))\\n\\ni = fignum\\n#fignum = 5\\n\\n#k=0\\nfor num in range(i,i+fignum):\\n  try:\\n    ax= fig.add_subplot(2, fignum, k+1)\\n    print(oids_val[num])\\n    ax.set_title(oid_ZTF[num],fontsize=20)\\n    ax.errorbar(X_raw_val[num][:,0], X_raw_val[num][:,1], yerr=X_raw_val[num][:, 2], fmt=\\'o\\', color=\\'black\\', ms=3)\\n    ax.errorbar(365.0*np.cumsum(X_val[num][:, 0][X_val[num][:, 0]>0])+X_raw_val[num][0,0], \\n            decoding_val_mean[num][X_val[num][:, 0]>0]*scales_val[num]+means_val[num], yerr=(decoding_val_std[num][X_val[num][:, 0]>0]*scales_val[num]).flatten(), fmt=\\'.\\', color=\\'red\\', ms=3)\\n    ax.fill_between(365.0*np.cumsum(X_val[num][:, 0][X_val[num][:, 0]>0])+X_raw_val[num][0,0], (decoding_val_low[num][X_val[num][:, 0]>0]*scales_val[num]+means_val[num]).flatten(), (decoding_val_high[num][X_val[num][:, 0]>0]*scales_val[num]+means_val[num]).flatten(),alpha=0.2,  facecolor=\\'#D42F4B\\')\\n    ax.set_ylim(plt.ylim()[::-1])\\n    ax.set_xlabel(\\'MJD\\',fontsize=18)\\n    if k==6: ax.set_ylabel(\\'magnitude\\',fontsize=18)\\n    ax.tick_params(axis=\\'both\\', which=\\'major\\', labelsize=14)\\n    k += 1\\n  except: \\n    print(\"not plot\")\\n    ax= fig.add_subplot(2, fignum, k+1)\\n    fig.delaxes(ax)\\n\\nplt.tight_layout()\\n\\nplt.savefig(\\'/content/drive/MyDrive/CSAGNs/plots_4paper/Frederick_sample_modeling.pdf\\')\\n'"
            ]
          },
          "metadata": {
            "tags": []
          },
          "execution_count": 39
        }
      ]
    },
    {
      "cell_type": "code",
      "metadata": {
        "id": "HmDKdFHzaEg7",
        "colab": {
          "base_uri": "https://localhost:8080/",
          "height": 137
        },
        "outputId": "e08d441d-e535-4e18-a9c6-4c6da9cdca34"
      },
      "source": [
        "\n",
        "'''i = 49*20 #init num of the plotting data\n",
        "k=0 #initialize the counter\n",
        "fignum = 7\n",
        "#plt.figure(figsize=(20, 17))\n",
        "plt.figure(figsize=(20, 20))\n",
        "\n",
        "#plotting raw-lightcurves and the decoded lightcurves \n",
        "for num in range(i,i+fignum):\n",
        "    plt.subplot(7, fignum, k+1)\n",
        "    #print(X_raw_val[num][:,0])\n",
        "    #print(365.0*np.cumsum(X_val[num][:, 0][X_val[num][:, 0]>0]))\n",
        "    print(oids_val[num])\n",
        "    #print((decoding_val_low[num][X_val[num][:, 0]>0]*scales_val[num]+means_val[num]).flatten())\n",
        "    #print(len(X_raw_val[num][:,0][X_raw_val[num][:, 0]>0]))\n",
        "    #print(len(365.0*np.cumsum(X_val[num][:, 0][X_val[num][:, 0]>0])+X_raw_val[num][0,0]))\n",
        "    plt.title(oids_val[num],fontsize=16)\n",
        "    plt.errorbar(X_raw_val[num][:,0], X_raw_val[num][:,1], yerr=X_raw_val[num][:, 2], fmt='o', color='black', ms=5)\n",
        "    plt.errorbar(365.0*np.cumsum(X_val[num][:, 0][X_val[num][:, 0]>0])+X_raw_val[num][0,0], \n",
        "             decoding_val_mean[num][X_val[num][:, 0]>0]*scales_val[num]+means_val[num], yerr=(decoding_val_std[num][X_val[num][:, 0]>0]*scales_val[num]).flatten(), fmt='.', color='red', ms=3)\n",
        "    plt.fill_between(365.0*np.cumsum(X_val[num][:, 0][X_val[num][:, 0]>0])+X_raw_val[num][0,0], (decoding_val_low[num][X_val[num][:, 0]>0]*scales_val[num]+means_val[num]).flatten(), (decoding_val_high[num][X_val[num][:, 0]>0]*scales_val[num]+means_val[num]).flatten(),alpha=0.2,  facecolor='#D42F4B')\n",
        "    plt.ylim(plt.ylim()[::-1])\n",
        "    if k==0 : plt.ylabel('magnitude',fontsize=16)\n",
        "    plt.tick_params(axis='both', which='major', labelsize=14)\n",
        "    k += 1\n",
        "#k=0\n",
        "for num in range(i+fignum,i+2*fignum):\n",
        "    plt.subplot(7, fignum, k+1)\n",
        "    print(oids_val[num])\n",
        "    plt.title(oids_val[num],fontsize=16)\n",
        "    plt.errorbar(X_raw_val[num][:,0], X_raw_val[num][:,1], yerr=X_raw_val[num][:, 2], fmt='o', color='black', ms=5)\n",
        "    plt.errorbar(365.0*np.cumsum(X_val[num][:, 0][X_val[num][:, 0]>0])+X_raw_val[num][0,0], \n",
        "             decoding_val_mean[num][X_val[num][:, 0]>0]*scales_val[num]+means_val[num], yerr=(decoding_val_std[num][X_val[num][:, 0]>0]*scales_val[num]).flatten(), fmt='.', color='red', ms=3)\n",
        "    plt.fill_between(365.0*np.cumsum(X_val[num][:, 0][X_val[num][:, 0]>0])+X_raw_val[num][0,0], (decoding_val_low[num][X_val[num][:, 0]>0]*scales_val[num]+means_val[num]).flatten(), (decoding_val_high[num][X_val[num][:, 0]>0]*scales_val[num]+means_val[num]).flatten(),alpha=0.2,  facecolor='#D42F4B')\n",
        "    plt.ylim(plt.ylim()[::-1])\n",
        "    if k==0+fignum*1 : plt.ylabel('magnitude',fontsize=16)\n",
        "    plt.tick_params(axis='both', which='major', labelsize=14)\n",
        "    k += 1\n",
        "\n",
        "for num in range(i+2*fignum,i+3*fignum):\n",
        "    plt.subplot(7, fignum, k+1)\n",
        "    print(oids_val[num])\n",
        "    plt.title(oids_val[num],fontsize=16)\n",
        "    plt.errorbar(X_raw_val[num][:,0], X_raw_val[num][:,1], yerr=X_raw_val[num][:, 2], fmt='o', color='black', ms=5)\n",
        "    plt.errorbar(365.0*np.cumsum(X_val[num][:, 0][X_val[num][:, 0]>0])+X_raw_val[num][0,0], \n",
        "             decoding_val_mean[num][X_val[num][:, 0]>0]*scales_val[num]+means_val[num], yerr=(decoding_val_std[num][X_val[num][:, 0]>0]*scales_val[num]).flatten(), fmt='.', color='red', ms=3)\n",
        "    plt.fill_between(365.0*np.cumsum(X_val[num][:, 0][X_val[num][:, 0]>0])+X_raw_val[num][0,0], (decoding_val_low[num][X_val[num][:, 0]>0]*scales_val[num]+means_val[num]).flatten(), (decoding_val_high[num][X_val[num][:, 0]>0]*scales_val[num]+means_val[num]).flatten(),alpha=0.2,  facecolor='#D42F4B')\n",
        "    plt.ylim(plt.ylim()[::-1])\n",
        "    if k==0+fignum*2 : plt.ylabel('magnitude',fontsize=16)\n",
        "    plt.tick_params(axis='both', which='major', labelsize=14)\n",
        "    k += 1\n",
        "\n",
        "for num in range(i+3*fignum,i+4*fignum):\n",
        "    plt.subplot(7, fignum, k+1)\n",
        "    print(oids_val[num])\n",
        "    plt.title(oids_val[num],fontsize=16)\n",
        "    plt.errorbar(X_raw_val[num][:,0], X_raw_val[num][:,1], yerr=X_raw_val[num][:, 2], fmt='o', color='black', ms=5)\n",
        "    plt.errorbar(365.0*np.cumsum(X_val[num][:, 0][X_val[num][:, 0]>0])+X_raw_val[num][0,0], \n",
        "             decoding_val_mean[num][X_val[num][:, 0]>0]*scales_val[num]+means_val[num], yerr=(decoding_val_std[num][X_val[num][:, 0]>0]*scales_val[num]).flatten(), fmt='.', color='red', ms=3)\n",
        "    plt.fill_between(365.0*np.cumsum(X_val[num][:, 0][X_val[num][:, 0]>0])+X_raw_val[num][0,0], (decoding_val_low[num][X_val[num][:, 0]>0]*scales_val[num]+means_val[num]).flatten(), (decoding_val_high[num][X_val[num][:, 0]>0]*scales_val[num]+means_val[num]).flatten(),alpha=0.2,  facecolor='#D42F4B')\n",
        "    plt.ylim(plt.ylim()[::-1])\n",
        "    if k==0+fignum*3 : plt.ylabel('magnitude',fontsize=16)\n",
        "    plt.tick_params(axis='both', which='major', labelsize=14)\n",
        "    k += 1\n",
        "\n",
        "for num in range(i+4*fignum,i+5*fignum):\n",
        "    plt.subplot(7, fignum, k+1)\n",
        "    print(oids_val[num])\n",
        "    plt.title(oids_val[num],fontsize=16)\n",
        "    plt.errorbar(X_raw_val[num][:,0], X_raw_val[num][:,1], yerr=X_raw_val[num][:, 2], fmt='o', color='black', ms=5)\n",
        "    plt.errorbar(365.0*np.cumsum(X_val[num][:, 0][X_val[num][:, 0]>0])+X_raw_val[num][0,0], \n",
        "             decoding_val_mean[num][X_val[num][:, 0]>0]*scales_val[num]+means_val[num], yerr=(decoding_val_std[num][X_val[num][:, 0]>0]*scales_val[num]).flatten(), fmt='.', color='red', ms=3)\n",
        "    plt.fill_between(365.0*np.cumsum(X_val[num][:, 0][X_val[num][:, 0]>0])+X_raw_val[num][0,0], (decoding_val_low[num][X_val[num][:, 0]>0]*scales_val[num]+means_val[num]).flatten(), (decoding_val_high[num][X_val[num][:, 0]>0]*scales_val[num]+means_val[num]).flatten(),alpha=0.2,  facecolor='#D42F4B')\n",
        "    plt.ylim(plt.ylim()[::-1])\n",
        "    if k==0+fignum*4 : plt.ylabel('magnitude',fontsize=16)\n",
        "    plt.tick_params(axis='both', which='major', labelsize=14)\n",
        "    k += 1\n",
        "\n",
        "for num in range(i+5*fignum,i+6*fignum):\n",
        "    plt.subplot(7, fignum, k+1)\n",
        "    print(oids_val[num])\n",
        "    plt.title(oids_val[num],fontsize=16)\n",
        "    plt.errorbar(X_raw_val[num][:,0], X_raw_val[num][:,1], yerr=X_raw_val[num][:, 2], fmt='o', color='black', ms=5)\n",
        "    plt.errorbar(365.0*np.cumsum(X_val[num][:, 0][X_val[num][:, 0]>0])+X_raw_val[num][0,0], \n",
        "             decoding_val_mean[num][X_val[num][:, 0]>0]*scales_val[num]+means_val[num], yerr=(decoding_val_std[num][X_val[num][:, 0]>0]*scales_val[num]).flatten(), fmt='.', color='red', ms=3)\n",
        "    plt.fill_between(365.0*np.cumsum(X_val[num][:, 0][X_val[num][:, 0]>0])+X_raw_val[num][0,0], (decoding_val_low[num][X_val[num][:, 0]>0]*scales_val[num]+means_val[num]).flatten(), (decoding_val_high[num][X_val[num][:, 0]>0]*scales_val[num]+means_val[num]).flatten(),alpha=0.2,  facecolor='#D42F4B')\n",
        "    plt.ylim(plt.ylim()[::-1])\n",
        "    #plt.xlabel('MJD',fontsize=16)\n",
        "    plt.tick_params(axis='both', which='major', labelsize=14)\n",
        "    if k==0+fignum*5 : plt.ylabel('magnitude',fontsize=16)\n",
        "    k += 1\n",
        "\n",
        "\n",
        "for num in range(i+6*fignum,i+7*fignum):\n",
        "    try:\n",
        "      plt.subplot(7, fignum, k+1)\n",
        "      print(oids_val[num])\n",
        "      plt.title(oids_val[num],fontsize=16)\n",
        "      plt.errorbar(X_raw_val[num][:,0], X_raw_val[num][:,1], yerr=X_raw_val[num][:, 2], fmt='o', color='black', ms=5)\n",
        "      plt.errorbar(365.0*np.cumsum(X_val[num][:, 0][X_val[num][:, 0]>0])+X_raw_val[num][0,0], \n",
        "              decoding_val_mean[num][X_val[num][:, 0]>0]*scales_val[num]+means_val[num], yerr=(decoding_val_std[num][X_val[num][:, 0]>0]*scales_val[num]).flatten(), fmt='.', color='red', ms=3)\n",
        "      plt.fill_between(365.0*np.cumsum(X_val[num][:, 0][X_val[num][:, 0]>0])+X_raw_val[num][0,0], (decoding_val_low[num][X_val[num][:, 0]>0]*scales_val[num]+means_val[num]).flatten(), (decoding_val_high[num][X_val[num][:, 0]>0]*scales_val[num]+means_val[num]).flatten(),alpha=0.2,  facecolor='#D42F4B')\n",
        "\n",
        "      plt.xlabel('MJD',fontsize=16)\n",
        "      if k==0+fignum*6 : plt.ylabel('magnitude',fontsize=16)\n",
        "      plt.ylim(plt.ylim()[::-1])\n",
        "      plt.tick_params(axis='both', which='major', labelsize=14)\n",
        "\n",
        "      k += 1\n",
        "\n",
        "\n",
        "\n",
        "    except: \n",
        "      print(\"not plot\")\n",
        "      ax= fig.add_subplot(2, fignum, k+1)\n",
        "      fig.delaxes(ax)\n",
        "\n",
        "\n",
        "#plt.tight_layout()\n",
        "#plt.savefig('/content/drive/MyDrive/CSAGNs/plots_4paper/CSAGNcand_classQ_sample_modeling.pdf')\n",
        "'''\n"
      ],
      "execution_count": null,
      "outputs": [
        {
          "output_type": "execute_result",
          "data": {
            "application/vnd.google.colaboratory.intrinsic+json": {
              "type": "string"
            },
            "text/plain": [
              "'i = 49*20 #init num of the plotting data\\nk=0 #initialize the counter\\nfignum = 7\\n#plt.figure(figsize=(20, 17))\\nplt.figure(figsize=(20, 20))\\n\\n#plotting raw-lightcurves and the decoded lightcurves \\nfor num in range(i,i+fignum):\\n    plt.subplot(7, fignum, k+1)\\n    #print(X_raw_val[num][:,0])\\n    #print(365.0*np.cumsum(X_val[num][:, 0][X_val[num][:, 0]>0]))\\n    print(oids_val[num])\\n    #print((decoding_val_low[num][X_val[num][:, 0]>0]*scales_val[num]+means_val[num]).flatten())\\n    #print(len(X_raw_val[num][:,0][X_raw_val[num][:, 0]>0]))\\n    #print(len(365.0*np.cumsum(X_val[num][:, 0][X_val[num][:, 0]>0])+X_raw_val[num][0,0]))\\n    plt.title(oids_val[num],fontsize=16)\\n    plt.errorbar(X_raw_val[num][:,0], X_raw_val[num][:,1], yerr=X_raw_val[num][:, 2], fmt=\\'o\\', color=\\'black\\', ms=5)\\n    plt.errorbar(365.0*np.cumsum(X_val[num][:, 0][X_val[num][:, 0]>0])+X_raw_val[num][0,0], \\n             decoding_val_mean[num][X_val[num][:, 0]>0]*scales_val[num]+means_val[num], yerr=(decoding_val_std[num][X_val[num][:, 0]>0]*scales_val[num]).flatten(), fmt=\\'.\\', color=\\'red\\', ms=3)\\n    plt.fill_between(365.0*np.cumsum(X_val[num][:, 0][X_val[num][:, 0]>0])+X_raw_val[num][0,0], (decoding_val_low[num][X_val[num][:, 0]>0]*scales_val[num]+means_val[num]).flatten(), (decoding_val_high[num][X_val[num][:, 0]>0]*scales_val[num]+means_val[num]).flatten(),alpha=0.2,  facecolor=\\'#D42F4B\\')\\n    plt.ylim(plt.ylim()[::-1])\\n    if k==0 : plt.ylabel(\\'magnitude\\',fontsize=16)\\n    plt.tick_params(axis=\\'both\\', which=\\'major\\', labelsize=14)\\n    k += 1\\n#k=0\\nfor num in range(i+fignum,i+2*fignum):\\n    plt.subplot(7, fignum, k+1)\\n    print(oids_val[num])\\n    plt.title(oids_val[num],fontsize=16)\\n    plt.errorbar(X_raw_val[num][:,0], X_raw_val[num][:,1], yerr=X_raw_val[num][:, 2], fmt=\\'o\\', color=\\'black\\', ms=5)\\n    plt.errorbar(365.0*np.cumsum(X_val[num][:, 0][X_val[num][:, 0]>0])+X_raw_val[num][0,0], \\n             decoding_val_mean[num][X_val[num][:, 0]>0]*scales_val[num]+means_val[num], yerr=(decoding_val_std[num][X_val[num][:, 0]>0]*scales_val[num]).flatten(), fmt=\\'.\\', color=\\'red\\', ms=3)\\n    plt.fill_between(365.0*np.cumsum(X_val[num][:, 0][X_val[num][:, 0]>0])+X_raw_val[num][0,0], (decoding_val_low[num][X_val[num][:, 0]>0]*scales_val[num]+means_val[num]).flatten(), (decoding_val_high[num][X_val[num][:, 0]>0]*scales_val[num]+means_val[num]).flatten(),alpha=0.2,  facecolor=\\'#D42F4B\\')\\n    plt.ylim(plt.ylim()[::-1])\\n    if k==0+fignum*1 : plt.ylabel(\\'magnitude\\',fontsize=16)\\n    plt.tick_params(axis=\\'both\\', which=\\'major\\', labelsize=14)\\n    k += 1\\n\\nfor num in range(i+2*fignum,i+3*fignum):\\n    plt.subplot(7, fignum, k+1)\\n    print(oids_val[num])\\n    plt.title(oids_val[num],fontsize=16)\\n    plt.errorbar(X_raw_val[num][:,0], X_raw_val[num][:,1], yerr=X_raw_val[num][:, 2], fmt=\\'o\\', color=\\'black\\', ms=5)\\n    plt.errorbar(365.0*np.cumsum(X_val[num][:, 0][X_val[num][:, 0]>0])+X_raw_val[num][0,0], \\n             decoding_val_mean[num][X_val[num][:, 0]>0]*scales_val[num]+means_val[num], yerr=(decoding_val_std[num][X_val[num][:, 0]>0]*scales_val[num]).flatten(), fmt=\\'.\\', color=\\'red\\', ms=3)\\n    plt.fill_between(365.0*np.cumsum(X_val[num][:, 0][X_val[num][:, 0]>0])+X_raw_val[num][0,0], (decoding_val_low[num][X_val[num][:, 0]>0]*scales_val[num]+means_val[num]).flatten(), (decoding_val_high[num][X_val[num][:, 0]>0]*scales_val[num]+means_val[num]).flatten(),alpha=0.2,  facecolor=\\'#D42F4B\\')\\n    plt.ylim(plt.ylim()[::-1])\\n    if k==0+fignum*2 : plt.ylabel(\\'magnitude\\',fontsize=16)\\n    plt.tick_params(axis=\\'both\\', which=\\'major\\', labelsize=14)\\n    k += 1\\n\\nfor num in range(i+3*fignum,i+4*fignum):\\n    plt.subplot(7, fignum, k+1)\\n    print(oids_val[num])\\n    plt.title(oids_val[num],fontsize=16)\\n    plt.errorbar(X_raw_val[num][:,0], X_raw_val[num][:,1], yerr=X_raw_val[num][:, 2], fmt=\\'o\\', color=\\'black\\', ms=5)\\n    plt.errorbar(365.0*np.cumsum(X_val[num][:, 0][X_val[num][:, 0]>0])+X_raw_val[num][0,0], \\n             decoding_val_mean[num][X_val[num][:, 0]>0]*scales_val[num]+means_val[num], yerr=(decoding_val_std[num][X_val[num][:, 0]>0]*scales_val[num]).flatten(), fmt=\\'.\\', color=\\'red\\', ms=3)\\n    plt.fill_between(365.0*np.cumsum(X_val[num][:, 0][X_val[num][:, 0]>0])+X_raw_val[num][0,0], (decoding_val_low[num][X_val[num][:, 0]>0]*scales_val[num]+means_val[num]).flatten(), (decoding_val_high[num][X_val[num][:, 0]>0]*scales_val[num]+means_val[num]).flatten(),alpha=0.2,  facecolor=\\'#D42F4B\\')\\n    plt.ylim(plt.ylim()[::-1])\\n    if k==0+fignum*3 : plt.ylabel(\\'magnitude\\',fontsize=16)\\n    plt.tick_params(axis=\\'both\\', which=\\'major\\', labelsize=14)\\n    k += 1\\n\\nfor num in range(i+4*fignum,i+5*fignum):\\n    plt.subplot(7, fignum, k+1)\\n    print(oids_val[num])\\n    plt.title(oids_val[num],fontsize=16)\\n    plt.errorbar(X_raw_val[num][:,0], X_raw_val[num][:,1], yerr=X_raw_val[num][:, 2], fmt=\\'o\\', color=\\'black\\', ms=5)\\n    plt.errorbar(365.0*np.cumsum(X_val[num][:, 0][X_val[num][:, 0]>0])+X_raw_val[num][0,0], \\n             decoding_val_mean[num][X_val[num][:, 0]>0]*scales_val[num]+means_val[num], yerr=(decoding_val_std[num][X_val[num][:, 0]>0]*scales_val[num]).flatten(), fmt=\\'.\\', color=\\'red\\', ms=3)\\n    plt.fill_between(365.0*np.cumsum(X_val[num][:, 0][X_val[num][:, 0]>0])+X_raw_val[num][0,0], (decoding_val_low[num][X_val[num][:, 0]>0]*scales_val[num]+means_val[num]).flatten(), (decoding_val_high[num][X_val[num][:, 0]>0]*scales_val[num]+means_val[num]).flatten(),alpha=0.2,  facecolor=\\'#D42F4B\\')\\n    plt.ylim(plt.ylim()[::-1])\\n    if k==0+fignum*4 : plt.ylabel(\\'magnitude\\',fontsize=16)\\n    plt.tick_params(axis=\\'both\\', which=\\'major\\', labelsize=14)\\n    k += 1\\n\\nfor num in range(i+5*fignum,i+6*fignum):\\n    plt.subplot(7, fignum, k+1)\\n    print(oids_val[num])\\n    plt.title(oids_val[num],fontsize=16)\\n    plt.errorbar(X_raw_val[num][:,0], X_raw_val[num][:,1], yerr=X_raw_val[num][:, 2], fmt=\\'o\\', color=\\'black\\', ms=5)\\n    plt.errorbar(365.0*np.cumsum(X_val[num][:, 0][X_val[num][:, 0]>0])+X_raw_val[num][0,0], \\n             decoding_val_mean[num][X_val[num][:, 0]>0]*scales_val[num]+means_val[num], yerr=(decoding_val_std[num][X_val[num][:, 0]>0]*scales_val[num]).flatten(), fmt=\\'.\\', color=\\'red\\', ms=3)\\n    plt.fill_between(365.0*np.cumsum(X_val[num][:, 0][X_val[num][:, 0]>0])+X_raw_val[num][0,0], (decoding_val_low[num][X_val[num][:, 0]>0]*scales_val[num]+means_val[num]).flatten(), (decoding_val_high[num][X_val[num][:, 0]>0]*scales_val[num]+means_val[num]).flatten(),alpha=0.2,  facecolor=\\'#D42F4B\\')\\n    plt.ylim(plt.ylim()[::-1])\\n    #plt.xlabel(\\'MJD\\',fontsize=16)\\n    plt.tick_params(axis=\\'both\\', which=\\'major\\', labelsize=14)\\n    if k==0+fignum*5 : plt.ylabel(\\'magnitude\\',fontsize=16)\\n    k += 1\\n\\n\\nfor num in range(i+6*fignum,i+7*fignum):\\n    try:\\n      plt.subplot(7, fignum, k+1)\\n      print(oids_val[num])\\n      plt.title(oids_val[num],fontsize=16)\\n      plt.errorbar(X_raw_val[num][:,0], X_raw_val[num][:,1], yerr=X_raw_val[num][:, 2], fmt=\\'o\\', color=\\'black\\', ms=5)\\n      plt.errorbar(365.0*np.cumsum(X_val[num][:, 0][X_val[num][:, 0]>0])+X_raw_val[num][0,0], \\n              decoding_val_mean[num][X_val[num][:, 0]>0]*scales_val[num]+means_val[num], yerr=(decoding_val_std[num][X_val[num][:, 0]>0]*scales_val[num]).flatten(), fmt=\\'.\\', color=\\'red\\', ms=3)\\n      plt.fill_between(365.0*np.cumsum(X_val[num][:, 0][X_val[num][:, 0]>0])+X_raw_val[num][0,0], (decoding_val_low[num][X_val[num][:, 0]>0]*scales_val[num]+means_val[num]).flatten(), (decoding_val_high[num][X_val[num][:, 0]>0]*scales_val[num]+means_val[num]).flatten(),alpha=0.2,  facecolor=\\'#D42F4B\\')\\n\\n      plt.xlabel(\\'MJD\\',fontsize=16)\\n      if k==0+fignum*6 : plt.ylabel(\\'magnitude\\',fontsize=16)\\n      plt.ylim(plt.ylim()[::-1])\\n      plt.tick_params(axis=\\'both\\', which=\\'major\\', labelsize=14)\\n\\n      k += 1\\n\\n\\n\\n    except: \\n      print(\"not plot\")\\n      ax= fig.add_subplot(2, fignum, k+1)\\n      fig.delaxes(ax)\\n\\n\\n#plt.tight_layout()\\n#plt.savefig(\\'/content/drive/MyDrive/CSAGNs/plots_4paper/CSAGNcand_classQ_sample_modeling.pdf\\')\\n'"
            ]
          },
          "metadata": {
            "tags": []
          },
          "execution_count": 40
        }
      ]
    },
    {
      "cell_type": "code",
      "metadata": {
        "id": "8G3eaWTMV2qW",
        "colab": {
          "base_uri": "https://localhost:8080/",
          "height": 204
        },
        "outputId": "3f3bd734-2120-48a1-94d3-245fa1413822"
      },
      "source": [
        "df_enc_feats = pd.DataFrame(data = encoding_mean,  \n",
        "                        columns = [\"e1\", \"e2\", \"e3\", \"e4\", \"e5\", \"e6\", \"e7\", \"e8\",\n",
        "                                   \"e9\", \"e10\", \"e11\", \"e12\", \"e13\", \"e14\", \"e15\", \"e16\"]) \n",
        "df_enc_feats.head()"
      ],
      "execution_count": null,
      "outputs": [
        {
          "output_type": "execute_result",
          "data": {
            "text/html": [
              "<div>\n",
              "<style scoped>\n",
              "    .dataframe tbody tr th:only-of-type {\n",
              "        vertical-align: middle;\n",
              "    }\n",
              "\n",
              "    .dataframe tbody tr th {\n",
              "        vertical-align: top;\n",
              "    }\n",
              "\n",
              "    .dataframe thead th {\n",
              "        text-align: right;\n",
              "    }\n",
              "</style>\n",
              "<table border=\"1\" class=\"dataframe\">\n",
              "  <thead>\n",
              "    <tr style=\"text-align: right;\">\n",
              "      <th></th>\n",
              "      <th>e1</th>\n",
              "      <th>e2</th>\n",
              "      <th>e3</th>\n",
              "      <th>e4</th>\n",
              "      <th>e5</th>\n",
              "      <th>e6</th>\n",
              "      <th>e7</th>\n",
              "      <th>e8</th>\n",
              "      <th>e9</th>\n",
              "      <th>e10</th>\n",
              "      <th>e11</th>\n",
              "      <th>e12</th>\n",
              "      <th>e13</th>\n",
              "      <th>e14</th>\n",
              "      <th>e15</th>\n",
              "      <th>e16</th>\n",
              "    </tr>\n",
              "  </thead>\n",
              "  <tbody>\n",
              "    <tr>\n",
              "      <th>0</th>\n",
              "      <td>-0.003238</td>\n",
              "      <td>-0.005945</td>\n",
              "      <td>0.203569</td>\n",
              "      <td>-2.184880</td>\n",
              "      <td>0.182565</td>\n",
              "      <td>-0.013606</td>\n",
              "      <td>0.033957</td>\n",
              "      <td>-0.000652</td>\n",
              "      <td>0.023302</td>\n",
              "      <td>-0.008659</td>\n",
              "      <td>0.018037</td>\n",
              "      <td>0.001849</td>\n",
              "      <td>0.032394</td>\n",
              "      <td>-0.497517</td>\n",
              "      <td>1.249906</td>\n",
              "      <td>-0.003231</td>\n",
              "    </tr>\n",
              "    <tr>\n",
              "      <th>1</th>\n",
              "      <td>-0.014179</td>\n",
              "      <td>-0.024504</td>\n",
              "      <td>1.759378</td>\n",
              "      <td>2.591482</td>\n",
              "      <td>-0.637879</td>\n",
              "      <td>-0.012524</td>\n",
              "      <td>-0.021837</td>\n",
              "      <td>-0.013343</td>\n",
              "      <td>-0.009206</td>\n",
              "      <td>0.004661</td>\n",
              "      <td>-0.016846</td>\n",
              "      <td>-0.014839</td>\n",
              "      <td>-0.004596</td>\n",
              "      <td>-0.462419</td>\n",
              "      <td>1.283101</td>\n",
              "      <td>0.022255</td>\n",
              "    </tr>\n",
              "    <tr>\n",
              "      <th>2</th>\n",
              "      <td>-0.002479</td>\n",
              "      <td>0.015126</td>\n",
              "      <td>-1.061464</td>\n",
              "      <td>2.895471</td>\n",
              "      <td>0.093969</td>\n",
              "      <td>0.032638</td>\n",
              "      <td>-0.039563</td>\n",
              "      <td>0.003740</td>\n",
              "      <td>0.006295</td>\n",
              "      <td>-0.022272</td>\n",
              "      <td>-0.010591</td>\n",
              "      <td>-0.018227</td>\n",
              "      <td>-0.030199</td>\n",
              "      <td>1.344322</td>\n",
              "      <td>0.375402</td>\n",
              "      <td>0.029542</td>\n",
              "    </tr>\n",
              "    <tr>\n",
              "      <th>3</th>\n",
              "      <td>0.008021</td>\n",
              "      <td>0.037203</td>\n",
              "      <td>-1.457215</td>\n",
              "      <td>1.022100</td>\n",
              "      <td>0.669599</td>\n",
              "      <td>-0.003150</td>\n",
              "      <td>0.017671</td>\n",
              "      <td>-0.020746</td>\n",
              "      <td>0.020022</td>\n",
              "      <td>-0.037045</td>\n",
              "      <td>0.042614</td>\n",
              "      <td>-0.047913</td>\n",
              "      <td>0.018157</td>\n",
              "      <td>-2.161340</td>\n",
              "      <td>-1.603281</td>\n",
              "      <td>-0.024957</td>\n",
              "    </tr>\n",
              "    <tr>\n",
              "      <th>4</th>\n",
              "      <td>-0.008218</td>\n",
              "      <td>-0.019403</td>\n",
              "      <td>0.780225</td>\n",
              "      <td>-1.027650</td>\n",
              "      <td>0.157358</td>\n",
              "      <td>0.030963</td>\n",
              "      <td>-0.027564</td>\n",
              "      <td>0.026140</td>\n",
              "      <td>-0.011220</td>\n",
              "      <td>0.030438</td>\n",
              "      <td>-0.048784</td>\n",
              "      <td>0.051884</td>\n",
              "      <td>-0.025386</td>\n",
              "      <td>3.148975</td>\n",
              "      <td>0.291604</td>\n",
              "      <td>0.016504</td>\n",
              "    </tr>\n",
              "  </tbody>\n",
              "</table>\n",
              "</div>"
            ],
            "text/plain": [
              "         e1        e2        e3  ...       e14       e15       e16\n",
              "0 -0.003238 -0.005945  0.203569  ... -0.497517  1.249906 -0.003231\n",
              "1 -0.014179 -0.024504  1.759378  ... -0.462419  1.283101  0.022255\n",
              "2 -0.002479  0.015126 -1.061464  ...  1.344322  0.375402  0.029542\n",
              "3  0.008021  0.037203 -1.457215  ... -2.161340 -1.603281 -0.024957\n",
              "4 -0.008218 -0.019403  0.780225  ...  3.148975  0.291604  0.016504\n",
              "\n",
              "[5 rows x 16 columns]"
            ]
          },
          "metadata": {
            "tags": []
          },
          "execution_count": 41
        }
      ]
    },
    {
      "cell_type": "code",
      "metadata": {
        "id": "7LhtDgwjc94I",
        "colab": {
          "base_uri": "https://localhost:8080/",
          "height": 224
        },
        "outputId": "edf77686-2581-42a0-dd25-dcaa0ec3ec48"
      },
      "source": [
        "df_enc_feats_std = pd.DataFrame(data = encoding_log_var,  \n",
        "                        columns = [\"logsig_e1\", \"logsig_e2\", \"logsig_e3\", \"logsig_e4\", \"logsig_e5\", \"logsig_e6\", \"logsig_e7\", \"logsig_e8\",\n",
        "                                   \"logsig_e9\", \"logsig_e10\", \"logsig_e11\", \"logsig_e12\", \"logsig_e13\", \"logsig_e14\", \"logsig_e15\", \"logsig_e16\"]) \n",
        "df_enc_feats_std.head()"
      ],
      "execution_count": null,
      "outputs": [
        {
          "output_type": "execute_result",
          "data": {
            "text/html": [
              "<div>\n",
              "<style scoped>\n",
              "    .dataframe tbody tr th:only-of-type {\n",
              "        vertical-align: middle;\n",
              "    }\n",
              "\n",
              "    .dataframe tbody tr th {\n",
              "        vertical-align: top;\n",
              "    }\n",
              "\n",
              "    .dataframe thead th {\n",
              "        text-align: right;\n",
              "    }\n",
              "</style>\n",
              "<table border=\"1\" class=\"dataframe\">\n",
              "  <thead>\n",
              "    <tr style=\"text-align: right;\">\n",
              "      <th></th>\n",
              "      <th>logsig_e1</th>\n",
              "      <th>logsig_e2</th>\n",
              "      <th>logsig_e3</th>\n",
              "      <th>logsig_e4</th>\n",
              "      <th>logsig_e5</th>\n",
              "      <th>logsig_e6</th>\n",
              "      <th>logsig_e7</th>\n",
              "      <th>logsig_e8</th>\n",
              "      <th>logsig_e9</th>\n",
              "      <th>logsig_e10</th>\n",
              "      <th>logsig_e11</th>\n",
              "      <th>logsig_e12</th>\n",
              "      <th>logsig_e13</th>\n",
              "      <th>logsig_e14</th>\n",
              "      <th>logsig_e15</th>\n",
              "      <th>logsig_e16</th>\n",
              "    </tr>\n",
              "  </thead>\n",
              "  <tbody>\n",
              "    <tr>\n",
              "      <th>0</th>\n",
              "      <td>-0.009750</td>\n",
              "      <td>-0.001927</td>\n",
              "      <td>-1.982220</td>\n",
              "      <td>-2.803640</td>\n",
              "      <td>-1.220382</td>\n",
              "      <td>0.011671</td>\n",
              "      <td>-0.007001</td>\n",
              "      <td>-0.004826</td>\n",
              "      <td>-0.017337</td>\n",
              "      <td>0.005236</td>\n",
              "      <td>-0.008808</td>\n",
              "      <td>-0.012787</td>\n",
              "      <td>-0.003548</td>\n",
              "      <td>-2.868975</td>\n",
              "      <td>-1.656902</td>\n",
              "      <td>-0.006962</td>\n",
              "    </tr>\n",
              "    <tr>\n",
              "      <th>1</th>\n",
              "      <td>-0.000517</td>\n",
              "      <td>-0.041285</td>\n",
              "      <td>-2.221286</td>\n",
              "      <td>-2.926428</td>\n",
              "      <td>-1.336514</td>\n",
              "      <td>-0.008277</td>\n",
              "      <td>0.001206</td>\n",
              "      <td>0.004362</td>\n",
              "      <td>-0.020893</td>\n",
              "      <td>0.000684</td>\n",
              "      <td>-0.005988</td>\n",
              "      <td>-0.006581</td>\n",
              "      <td>-0.015820</td>\n",
              "      <td>-3.371349</td>\n",
              "      <td>-1.877479</td>\n",
              "      <td>-0.010791</td>\n",
              "    </tr>\n",
              "    <tr>\n",
              "      <th>2</th>\n",
              "      <td>-0.006289</td>\n",
              "      <td>-0.036124</td>\n",
              "      <td>-2.070144</td>\n",
              "      <td>-2.535569</td>\n",
              "      <td>-1.099438</td>\n",
              "      <td>-0.012016</td>\n",
              "      <td>0.004499</td>\n",
              "      <td>-0.001076</td>\n",
              "      <td>-0.018655</td>\n",
              "      <td>0.002451</td>\n",
              "      <td>-0.011246</td>\n",
              "      <td>0.000394</td>\n",
              "      <td>-0.014110</td>\n",
              "      <td>-3.179582</td>\n",
              "      <td>-1.751832</td>\n",
              "      <td>-0.017672</td>\n",
              "    </tr>\n",
              "    <tr>\n",
              "      <th>3</th>\n",
              "      <td>-0.018940</td>\n",
              "      <td>-0.040134</td>\n",
              "      <td>-2.724202</td>\n",
              "      <td>-4.039315</td>\n",
              "      <td>-1.797777</td>\n",
              "      <td>-0.010147</td>\n",
              "      <td>-0.030347</td>\n",
              "      <td>-0.012361</td>\n",
              "      <td>-0.009419</td>\n",
              "      <td>-0.034386</td>\n",
              "      <td>-0.012681</td>\n",
              "      <td>-0.007657</td>\n",
              "      <td>-0.017454</td>\n",
              "      <td>-3.701325</td>\n",
              "      <td>-2.283098</td>\n",
              "      <td>-0.038544</td>\n",
              "    </tr>\n",
              "    <tr>\n",
              "      <th>4</th>\n",
              "      <td>-0.002227</td>\n",
              "      <td>-0.018310</td>\n",
              "      <td>-2.396154</td>\n",
              "      <td>-4.473517</td>\n",
              "      <td>-1.663883</td>\n",
              "      <td>-0.015179</td>\n",
              "      <td>-0.006202</td>\n",
              "      <td>-0.016414</td>\n",
              "      <td>-0.048740</td>\n",
              "      <td>-0.002328</td>\n",
              "      <td>-0.028130</td>\n",
              "      <td>-0.041824</td>\n",
              "      <td>-0.012484</td>\n",
              "      <td>-3.227398</td>\n",
              "      <td>-2.163723</td>\n",
              "      <td>0.003172</td>\n",
              "    </tr>\n",
              "  </tbody>\n",
              "</table>\n",
              "</div>"
            ],
            "text/plain": [
              "   logsig_e1  logsig_e2  logsig_e3  ...  logsig_e14  logsig_e15  logsig_e16\n",
              "0  -0.009750  -0.001927  -1.982220  ...   -2.868975   -1.656902   -0.006962\n",
              "1  -0.000517  -0.041285  -2.221286  ...   -3.371349   -1.877479   -0.010791\n",
              "2  -0.006289  -0.036124  -2.070144  ...   -3.179582   -1.751832   -0.017672\n",
              "3  -0.018940  -0.040134  -2.724202  ...   -3.701325   -2.283098   -0.038544\n",
              "4  -0.002227  -0.018310  -2.396154  ...   -3.227398   -2.163723    0.003172\n",
              "\n",
              "[5 rows x 16 columns]"
            ]
          },
          "metadata": {
            "tags": []
          },
          "execution_count": 42
        }
      ]
    },
    {
      "cell_type": "code",
      "metadata": {
        "id": "zqP3f0sbf5nN",
        "colab": {
          "base_uri": "https://localhost:8080/"
        },
        "outputId": "bce5bd8a-3f5a-44a9-99e8-0170279fdcfc"
      },
      "source": [
        "\n",
        "chi_all = np.array(RedChiSq)\n",
        "print(chi_all)\n",
        "\n",
        "dataset = pd.DataFrame({'oid': oids_all, 'chi2_gband': chi_all})\n",
        "\n",
        "print(dataset.head())\n",
        "\n"
      ],
      "execution_count": null,
      "outputs": [
        {
          "output_type": "stream",
          "text": [
            "[ 2.7419264   2.69012602  3.14667497  1.12769197  1.70162409  1.14148075\n",
            "  3.78682761 18.39055037  2.98360017  1.89148424  4.83188016  1.31946485]\n",
            "               oid  chi2_gband\n",
            "0  451103200005537    2.741926\n",
            "1  495111100005833    2.690126\n",
            "2  566112100004425    3.146675\n",
            "3  646113100002570    1.127692\n",
            "4  648101400002016    1.701624\n"
          ],
          "name": "stdout"
        }
      ]
    },
    {
      "cell_type": "code",
      "metadata": {
        "id": "-DsHM2tQWkC8",
        "colab": {
          "base_uri": "https://localhost:8080/"
        },
        "outputId": "67b434ed-6722-4963-da9f-79a19ccbd971"
      },
      "source": [
        "df_col_merged = pd.concat([dataset, df_enc_feats, df_enc_feats_std], axis=1)\n",
        "print(df_col_merged)\n",
        "\n",
        "#df_col_merged.to_csv('/content/drive/MyDrive/CSAGNs/results_DR5/VAE_psDR5_SDSS_QSO_balanced_detprop_GRU2x32-encoding16_gband/DR5_Frederick_Ricci_sample_with_prederr10_encoding_features_chi2_gband.csv')\n",
        "#df_col_merged.to_parquet('/content/drive/MyDrive/CSAGNs/results_DR5/VAE_psDR5_SDSS_QSO_balanced_detprop_GRU2x32-encoding16_gband/DR5_final_sample_with_prederr10_encoding_features_chi2_gband_1st.parquet')"
      ],
      "execution_count": null,
      "outputs": [
        {
          "output_type": "stream",
          "text": [
            "                oid  chi2_gband        e1  ...  logsig_e14  logsig_e15  logsig_e16\n",
            "0   451103200005537    2.741926 -0.003238  ...   -2.868975   -1.656902   -0.006962\n",
            "1   495111100005833    2.690126 -0.014179  ...   -3.371349   -1.877479   -0.010791\n",
            "2   566112100004425    3.146675 -0.002479  ...   -3.179582   -1.751832   -0.017672\n",
            "3   646113100002570    1.127692  0.008021  ...   -3.701325   -2.283098   -0.038544\n",
            "4   648101400002016    1.701624 -0.008218  ...   -3.227398   -2.163723    0.003172\n",
            "5   649113400004567    1.141481 -0.008975  ...   -3.201330   -2.126309    0.004454\n",
            "6   674113200005713    3.786828 -0.012524  ...   -3.019183   -1.808102    0.003686\n",
            "7   678115400001961   18.390550 -0.012555  ...   -5.650127   -3.928250   -0.042645\n",
            "8   693106300007466    2.983600 -0.002605  ...   -2.946004   -1.884771    0.001177\n",
            "9   712112100003746    1.891484  0.002763  ...   -3.411378   -2.372839   -0.004222\n",
            "10  719114100002677    4.831880  0.000938  ...   -5.009892   -3.241592   -0.035837\n",
            "11  795106100002111    1.319465 -0.006787  ...   -4.450218   -2.879760   -0.050876\n",
            "\n",
            "[12 rows x 34 columns]\n"
          ],
          "name": "stdout"
        }
      ]
    },
    {
      "cell_type": "code",
      "metadata": {
        "id": "86tZ1yFskpp8"
      },
      "source": [
        "#X_reduced_train =TSNE(n_components=2, perplexity=100, random_state=32, n_iter=500).fit_transform(encoding_mean)"
      ],
      "execution_count": null,
      "outputs": []
    },
    {
      "cell_type": "code",
      "metadata": {
        "id": "2DGOtxhC1CnU"
      },
      "source": [
        "#print(X_reduced_train)"
      ],
      "execution_count": null,
      "outputs": []
    },
    {
      "cell_type": "code",
      "metadata": {
        "id": "QsvQ_ABG1GG6"
      },
      "source": [
        "#plt.scatter(X_reduced_train[:, 0], X_reduced_train[:, 1],c=np.log10(np.array(RedChiSq)))"
      ],
      "execution_count": null,
      "outputs": []
    },
    {
      "cell_type": "code",
      "metadata": {
        "id": "F6ia2_OZEhSy",
        "colab": {
          "base_uri": "https://localhost:8080/",
          "height": 137
        },
        "outputId": "f3206d9a-9d66-4330-d2e3-9ddf42c79301"
      },
      "source": [
        "'''import statsmodels.nonparametric.api as smnp\n",
        "from statsmodels.nonparametric.kernel_density import KDEMultivariate\n",
        "import seaborn as sns\n",
        "from matplotlib import gridspec as grs\n",
        "from scipy import stats\n",
        "\n",
        "def kde_contour_dat(x, y, extent = 'Auto', bw_type = \"silverman\", grid_bins = 200, BW=False):\n",
        "    \"\"\"Determine normalized KDE PDF to draw contours\"\"\"\n",
        "    \n",
        "    if isinstance(x, pd.Series):\n",
        "        x = x.values\n",
        "    if isinstance(y, pd.Series):\n",
        "        y = y.values\n",
        "    \n",
        "    if extent == 'Auto':\n",
        "        extent = (x.min(), x.max(), y.min(), y.max())\n",
        "\n",
        "    if bw_type == \"silverman\":\n",
        "        bw = np.array([smnp.bandwidths.bw_silverman(x), smnp.bandwidths.bw_silverman(y)])\n",
        "    elif bw_type == \"scott\":\n",
        "        bw = np.array([smnp.bandwidths.bw_scott(x), smnp.bandwidths.bw_scott(y)])\n",
        "    if BW:\n",
        "        bw = BW\n",
        "\n",
        "    kde = KDEMultivariate([x,y], var_type='cc', bw = bw)\n",
        "\n",
        "    xi, yi = np.mgrid[extent[0]:extent[1]:grid_bins*1j,extent[2]:extent[3]:grid_bins*1j]\n",
        "\n",
        "    kde_prob = kde.pdf(np.vstack([xi.flatten(), yi.flatten()]))\n",
        "\n",
        "    zi = (kde_prob-kde_prob.min())/(kde_prob.max() - kde_prob.min())\n",
        "    zi = zi.reshape(xi.shape)\n",
        "\n",
        "    return xi, yi, zi'''"
      ],
      "execution_count": null,
      "outputs": [
        {
          "output_type": "execute_result",
          "data": {
            "application/vnd.google.colaboratory.intrinsic+json": {
              "type": "string"
            },
            "text/plain": [
              "'import statsmodels.nonparametric.api as smnp\\nfrom statsmodels.nonparametric.kernel_density import KDEMultivariate\\nimport seaborn as sns\\nfrom matplotlib import gridspec as grs\\nfrom scipy import stats\\n\\ndef kde_contour_dat(x, y, extent = \\'Auto\\', bw_type = \"silverman\", grid_bins = 200, BW=False):\\n    \"\"\"Determine normalized KDE PDF to draw contours\"\"\"\\n    \\n    if isinstance(x, pd.Series):\\n        x = x.values\\n    if isinstance(y, pd.Series):\\n        y = y.values\\n    \\n    if extent == \\'Auto\\':\\n        extent = (x.min(), x.max(), y.min(), y.max())\\n\\n    if bw_type == \"silverman\":\\n        bw = np.array([smnp.bandwidths.bw_silverman(x), smnp.bandwidths.bw_silverman(y)])\\n    elif bw_type == \"scott\":\\n        bw = np.array([smnp.bandwidths.bw_scott(x), smnp.bandwidths.bw_scott(y)])\\n    if BW:\\n        bw = BW\\n\\n    kde = KDEMultivariate([x,y], var_type=\\'cc\\', bw = bw)\\n\\n    xi, yi = np.mgrid[extent[0]:extent[1]:grid_bins*1j,extent[2]:extent[3]:grid_bins*1j]\\n\\n    kde_prob = kde.pdf(np.vstack([xi.flatten(), yi.flatten()]))\\n\\n    zi = (kde_prob-kde_prob.min())/(kde_prob.max() - kde_prob.min())\\n    zi = zi.reshape(xi.shape)\\n\\n    return xi, yi, zi'"
            ]
          },
          "metadata": {
            "tags": []
          },
          "execution_count": 48
        }
      ]
    },
    {
      "cell_type": "code",
      "metadata": {
        "id": "sEKLqTpbEjSI"
      },
      "source": [
        "#rx, ry, rz = kde_contour_dat(X_reduced_train[:, 0], X_reduced_train[:, 1], grid_bins=100, BW=[2,2], extent=[-50, 50, -50, 50])"
      ],
      "execution_count": null,
      "outputs": []
    },
    {
      "cell_type": "code",
      "metadata": {
        "id": "-t95b8qfEzJr",
        "colab": {
          "base_uri": "https://localhost:8080/",
          "height": 137
        },
        "outputId": "99d269a8-8c11-4221-ce52-8a7b041ed68f"
      },
      "source": [
        "'''X, Y = X_reduced_train[:, 0], X_reduced_train[:, 1]\n",
        "\n",
        "xlims = [-10, 10]\n",
        "ylims = [-10, 10]\n",
        "\n",
        "origin = 'lower'\n",
        "levels = np.arange(0.1, 1.1, 0.1)\n",
        "cmap = sns.cubehelix_palette(start=0.3,rot=-0.5,light=0.7,dark=0.3,as_cmap=True)\n",
        "\n",
        "gs = grs.GridSpec(2, 2, width_ratios=(4, 1), height_ratios=(1, 4))\n",
        "plt.figure(figsize=(6, 6))\n",
        "ax = [plt.subplot(gs[1, 0]), plt.subplot(gs[1, 1]), plt.subplot(gs[0, 0]), plt.subplot(gs[0,1])]\n",
        "\n",
        "ax[0].grid(alpha=0.5, lw=1, c='grey', linestyle=':') \n",
        "ax[0].tick_params(which=\"both\", top=True, right=True)\n",
        "ax[0].minorticks_on()\n",
        "ax[0].set_axisbelow(True)\n",
        "ax[0].contourf(rx, ry, rz, levels = levels,\n",
        "             origin = origin,\n",
        "             cmap = cmap, alpha = 0.8)\n",
        "ax[0].contour(rx, ry, rz, levels = levels,\n",
        "                    linewidths=(0.5,), origin = origin,\n",
        "                    colors = (\"w\",), alpha = 0.5, zorder = 11)\n",
        "ax[0].scatter(X_reduced_train[:, 0], X_reduced_train[:, 1],s=1)\n",
        "ax[0].set_xlim(xlims); ax[0].set_ylim(ylims)\n",
        "ax[0].tick_params(labelsize = 15)\n",
        "ax[0].set_xlabel('Dim1', fontsize=15)\n",
        "ax[0].set_ylabel('Dim2', fontsize=15)\n",
        "\n",
        "n = (np.linspace(ylims[0]-5, ylims[1]+5,200))\n",
        "kde_X = stats.gaussian_kde(X)\n",
        "kde_Y = stats.gaussian_kde(Y)\n",
        "ax[1].fill_betweenx(n, kde_Y(n), alpha=0.75, color=cmap(0.25), lw=2)\n",
        "ax[1].set_ylim(ylims)\n",
        "ax[1].set_xlim(0, 1.1*np.max(kde_Y(n)))\n",
        "ax[1].set_xlabel('PDF', fontsize=15)\n",
        "ax[1].set_xticklabels( () )\n",
        "ax[1].set_yticklabels( () )\n",
        "ax[1].set_xticks([])\n",
        "ax[1].minorticks_on()\n",
        "\n",
        "n = (np.linspace(xlims[0]-5, xlims[1]+5,200))\n",
        "ax[2].fill(n, kde_X(n), alpha=0.75, color=cmap(0.25), lw=2)\n",
        "ax[2].set_xlim(xlims)\n",
        "ax[2].set_ylim(0, 1.1*np.max(kde_X(n)))\n",
        "ax[2].set_ylabel('PDF', fontsize=15)\n",
        "ax[2].set_xticklabels( () )\n",
        "ax[2].set_yticklabels( () )\n",
        "ax[2].set_yticks([])\n",
        "ax[2].minorticks_on()\n",
        "\n",
        "ax[3].tick_params(labelbottom=\"off\",bottom=\"off\", labeltop='off', top='off')\n",
        "ax[3].tick_params(labelleft=\"off\",left=\"off\", labelright='off', right='off')\n",
        "plt.box(\"off\")\n",
        "plt.tight_layout()\n",
        "\n",
        "plt.savefig('/content/drive/MyDrive/CSAGNs/plots_ps_length/VAE_psDR4_SDSS_QSO_balanced_GRU2x40-encoding20_gband_lcrand/milliquas_lcrand200_ZTF_alerts_tSNE_encoded_features.png')\n",
        "plt.show()'''"
      ],
      "execution_count": null,
      "outputs": [
        {
          "output_type": "execute_result",
          "data": {
            "application/vnd.google.colaboratory.intrinsic+json": {
              "type": "string"
            },
            "text/plain": [
              "'X, Y = X_reduced_train[:, 0], X_reduced_train[:, 1]\\n\\nxlims = [-10, 10]\\nylims = [-10, 10]\\n\\norigin = \\'lower\\'\\nlevels = np.arange(0.1, 1.1, 0.1)\\ncmap = sns.cubehelix_palette(start=0.3,rot=-0.5,light=0.7,dark=0.3,as_cmap=True)\\n\\ngs = grs.GridSpec(2, 2, width_ratios=(4, 1), height_ratios=(1, 4))\\nplt.figure(figsize=(6, 6))\\nax = [plt.subplot(gs[1, 0]), plt.subplot(gs[1, 1]), plt.subplot(gs[0, 0]), plt.subplot(gs[0,1])]\\n\\nax[0].grid(alpha=0.5, lw=1, c=\\'grey\\', linestyle=\\':\\') \\nax[0].tick_params(which=\"both\", top=True, right=True)\\nax[0].minorticks_on()\\nax[0].set_axisbelow(True)\\nax[0].contourf(rx, ry, rz, levels = levels,\\n             origin = origin,\\n             cmap = cmap, alpha = 0.8)\\nax[0].contour(rx, ry, rz, levels = levels,\\n                    linewidths=(0.5,), origin = origin,\\n                    colors = (\"w\",), alpha = 0.5, zorder = 11)\\nax[0].scatter(X_reduced_train[:, 0], X_reduced_train[:, 1],s=1)\\nax[0].set_xlim(xlims); ax[0].set_ylim(ylims)\\nax[0].tick_params(labelsize = 15)\\nax[0].set_xlabel(\\'Dim1\\', fontsize=15)\\nax[0].set_ylabel(\\'Dim2\\', fontsize=15)\\n\\nn = (np.linspace(ylims[0]-5, ylims[1]+5,200))\\nkde_X = stats.gaussian_kde(X)\\nkde_Y = stats.gaussian_kde(Y)\\nax[1].fill_betweenx(n, kde_Y(n), alpha=0.75, color=cmap(0.25), lw=2)\\nax[1].set_ylim(ylims)\\nax[1].set_xlim(0, 1.1*np.max(kde_Y(n)))\\nax[1].set_xlabel(\\'PDF\\', fontsize=15)\\nax[1].set_xticklabels( () )\\nax[1].set_yticklabels( () )\\nax[1].set_xticks([])\\nax[1].minorticks_on()\\n\\nn = (np.linspace(xlims[0]-5, xlims[1]+5,200))\\nax[2].fill(n, kde_X(n), alpha=0.75, color=cmap(0.25), lw=2)\\nax[2].set_xlim(xlims)\\nax[2].set_ylim(0, 1.1*np.max(kde_X(n)))\\nax[2].set_ylabel(\\'PDF\\', fontsize=15)\\nax[2].set_xticklabels( () )\\nax[2].set_yticklabels( () )\\nax[2].set_yticks([])\\nax[2].minorticks_on()\\n\\nax[3].tick_params(labelbottom=\"off\",bottom=\"off\", labeltop=\\'off\\', top=\\'off\\')\\nax[3].tick_params(labelleft=\"off\",left=\"off\", labelright=\\'off\\', right=\\'off\\')\\nplt.box(\"off\")\\nplt.tight_layout()\\n\\nplt.savefig(\\'/content/drive/MyDrive/CSAGNs/plots_ps_length/VAE_psDR4_SDSS_QSO_balanced_GRU2x40-encoding20_gband_lcrand/milliquas_lcrand200_ZTF_alerts_tSNE_encoded_features.png\\')\\nplt.show()'"
            ]
          },
          "metadata": {
            "tags": []
          },
          "execution_count": 50
        }
      ]
    },
    {
      "cell_type": "code",
      "metadata": {
        "id": "QRwFlmOhqyHi"
      },
      "source": [
        ""
      ],
      "execution_count": null,
      "outputs": []
    }
  ]
}