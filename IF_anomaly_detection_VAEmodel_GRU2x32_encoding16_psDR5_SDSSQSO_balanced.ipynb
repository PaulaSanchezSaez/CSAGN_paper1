{
  "nbformat": 4,
  "nbformat_minor": 0,
  "metadata": {
    "colab": {
      "name": "IF-anomaly-detection-VAEmodel-GRU2x32-encoding16-psDR5-SDSSQSO-balanced.ipynb",
      "provenance": [],
      "collapsed_sections": [],
      "toc_visible": true
    },
    "kernelspec": {
      "name": "python3",
      "display_name": "Python 3"
    }
  },
  "cells": [
    {
      "cell_type": "code",
      "metadata": {
        "id": "toXKzHH0oTgB"
      },
      "source": [
        "import datetime\n",
        "import sys\n",
        "import os\n",
        "import numpy as np\n",
        "import pandas as pd\n",
        "import sklearn \n",
        "import matplotlib.pyplot as plt\n",
        "from sklearn.ensemble import IsolationForest\n",
        "import seaborn as sns"
      ],
      "execution_count": null,
      "outputs": []
    },
    {
      "cell_type": "code",
      "metadata": {
        "colab": {
          "base_uri": "https://localhost:8080/"
        },
        "id": "TuW76jYod6n4",
        "outputId": "bdf635f4-48b2-4da3-d09f-dcafa8e74572"
      },
      "source": [
        "# Load the Drive helper and mount\n",
        "from google.colab import drive\n",
        "\n",
        "# This will prompt for authorization.\n",
        "drive.mount('/content/drive')"
      ],
      "execution_count": null,
      "outputs": [
        {
          "output_type": "stream",
          "text": [
            "Drive already mounted at /content/drive; to attempt to forcibly remount, call drive.mount(\"/content/drive\", force_remount=True).\n"
          ],
          "name": "stdout"
        }
      ]
    },
    {
      "cell_type": "markdown",
      "metadata": {
        "id": "nBgc03CeeAbS"
      },
      "source": [
        "## Reading encoding features"
      ]
    },
    {
      "cell_type": "code",
      "metadata": {
        "id": "tMpCM8hCeAFi"
      },
      "source": [
        "data_train = pd.read_csv('/content/drive/MyDrive/CSAGNs/results_DR5/VAE_psDR5_SDSS_QSO_balanced_detprop_GRU2x32-encoding16_gband/DR5_balanced_training_sample_with_prederr10_encoding_features_chi2_turbofats_gband.csv')\n",
        "data_train.set_index('oid_alerce',inplace=True)\n",
        "#data = pd.read_csv('/content/drive/MyDrive/CSAGNs/results_DR5/VAE_psDR5_SDSS_QSO_balanced_detprop_GRU2x32-encoding16_gband/DR5_final_sample_with_prederr10_encoding_features_chi2_turbofats_gband.csv')\n",
        "data = pd.read_csv('/content/drive/MyDrive/CSAGNs/results_DR5/VAE_psDR5_SDSS_QSO_balanced_detprop_GRU2x32-encoding16_gband/DR5_Frederick_Ricci_sample_with_prederr10_encoding_features_chi2_gband.csv')\n",
        "data.set_index('oid',inplace=True)\n",
        "#data.set_index('oid_alerce',inplace=True)"
      ],
      "execution_count": null,
      "outputs": []
    },
    {
      "cell_type": "code",
      "metadata": {
        "id": "752zUEBCj1HP"
      },
      "source": [
        "#filtering data by ps_score\n",
        "#data = data[(data.chi2_gband>3)]"
      ],
      "execution_count": null,
      "outputs": []
    },
    {
      "cell_type": "code",
      "metadata": {
        "colab": {
          "base_uri": "https://localhost:8080/",
          "height": 255
        },
        "id": "BK1SAAwgeblN",
        "outputId": "e2cdef06-258a-4219-a6c9-d3b81de5dbfc"
      },
      "source": [
        "#defining features for the anomaly detection algorithm \n",
        "feat_list = [\n",
        "             \"e1\", \"e2\", \"e3\", \"e4\", \"e5\", \"e6\", \"e7\", \"e8\",\"e9\", \"e10\",\"e11\",\n",
        "               \"e12\", \"e13\", \"e14\", \"e15\", \"e16\",\n",
        "             #\"chi2_gband\",\n",
        "             #\"mhps_ratio\",\"mhps_low\",\"mhps_high\",\"Amplitude\",\"Autocor_length\",\"Meanvariance\",\"GP_DRW_sigma\",\"GP_DRW_tau\",\"SF_ML_amplitude\",\"SF_ML_gamma\",\"IAR_phi\",\"LinearTrend\"\n",
        "             ]\n",
        "\n",
        "#saving features in df\n",
        "df_feat = data[feat_list]\n",
        "df_feat_train = data_train[feat_list]\n",
        "df_feat.head()"
      ],
      "execution_count": null,
      "outputs": [
        {
          "output_type": "execute_result",
          "data": {
            "text/html": [
              "<div>\n",
              "<style scoped>\n",
              "    .dataframe tbody tr th:only-of-type {\n",
              "        vertical-align: middle;\n",
              "    }\n",
              "\n",
              "    .dataframe tbody tr th {\n",
              "        vertical-align: top;\n",
              "    }\n",
              "\n",
              "    .dataframe thead th {\n",
              "        text-align: right;\n",
              "    }\n",
              "</style>\n",
              "<table border=\"1\" class=\"dataframe\">\n",
              "  <thead>\n",
              "    <tr style=\"text-align: right;\">\n",
              "      <th></th>\n",
              "      <th>e1</th>\n",
              "      <th>e2</th>\n",
              "      <th>e3</th>\n",
              "      <th>e4</th>\n",
              "      <th>e5</th>\n",
              "      <th>e6</th>\n",
              "      <th>e7</th>\n",
              "      <th>e8</th>\n",
              "      <th>e9</th>\n",
              "      <th>e10</th>\n",
              "      <th>e11</th>\n",
              "      <th>e12</th>\n",
              "      <th>e13</th>\n",
              "      <th>e14</th>\n",
              "      <th>e15</th>\n",
              "      <th>e16</th>\n",
              "    </tr>\n",
              "    <tr>\n",
              "      <th>oid</th>\n",
              "      <th></th>\n",
              "      <th></th>\n",
              "      <th></th>\n",
              "      <th></th>\n",
              "      <th></th>\n",
              "      <th></th>\n",
              "      <th></th>\n",
              "      <th></th>\n",
              "      <th></th>\n",
              "      <th></th>\n",
              "      <th></th>\n",
              "      <th></th>\n",
              "      <th></th>\n",
              "      <th></th>\n",
              "      <th></th>\n",
              "      <th></th>\n",
              "    </tr>\n",
              "  </thead>\n",
              "  <tbody>\n",
              "    <tr>\n",
              "      <th>405113200012094</th>\n",
              "      <td>-0.019421</td>\n",
              "      <td>-0.036640</td>\n",
              "      <td>1.555295</td>\n",
              "      <td>1.281783</td>\n",
              "      <td>-1.968677</td>\n",
              "      <td>-0.006785</td>\n",
              "      <td>-0.034409</td>\n",
              "      <td>0.006346</td>\n",
              "      <td>-0.036378</td>\n",
              "      <td>0.034309</td>\n",
              "      <td>-0.058941</td>\n",
              "      <td>0.025057</td>\n",
              "      <td>-0.040508</td>\n",
              "      <td>0.754415</td>\n",
              "      <td>-1.031383</td>\n",
              "      <td>0.012401</td>\n",
              "    </tr>\n",
              "    <tr>\n",
              "      <th>464105200007063</th>\n",
              "      <td>0.013039</td>\n",
              "      <td>0.040348</td>\n",
              "      <td>-2.174314</td>\n",
              "      <td>1.389187</td>\n",
              "      <td>1.373868</td>\n",
              "      <td>0.021756</td>\n",
              "      <td>0.003378</td>\n",
              "      <td>-0.007620</td>\n",
              "      <td>0.033752</td>\n",
              "      <td>-0.048393</td>\n",
              "      <td>0.040288</td>\n",
              "      <td>-0.041269</td>\n",
              "      <td>0.010209</td>\n",
              "      <td>-0.264444</td>\n",
              "      <td>0.098123</td>\n",
              "      <td>0.002398</td>\n",
              "    </tr>\n",
              "    <tr>\n",
              "      <th>516105400003751</th>\n",
              "      <td>-0.004812</td>\n",
              "      <td>-0.022248</td>\n",
              "      <td>0.782761</td>\n",
              "      <td>-0.180979</td>\n",
              "      <td>0.173506</td>\n",
              "      <td>0.012976</td>\n",
              "      <td>-0.016303</td>\n",
              "      <td>0.020130</td>\n",
              "      <td>0.005639</td>\n",
              "      <td>0.009286</td>\n",
              "      <td>-0.018461</td>\n",
              "      <td>0.024875</td>\n",
              "      <td>-0.007340</td>\n",
              "      <td>1.983115</td>\n",
              "      <td>2.298911</td>\n",
              "      <td>0.036256</td>\n",
              "    </tr>\n",
              "    <tr>\n",
              "      <th>629115200005576</th>\n",
              "      <td>0.005211</td>\n",
              "      <td>0.002847</td>\n",
              "      <td>0.081205</td>\n",
              "      <td>2.559672</td>\n",
              "      <td>0.830689</td>\n",
              "      <td>0.049800</td>\n",
              "      <td>-0.053007</td>\n",
              "      <td>0.017275</td>\n",
              "      <td>-0.012348</td>\n",
              "      <td>0.007815</td>\n",
              "      <td>-0.058085</td>\n",
              "      <td>0.009515</td>\n",
              "      <td>-0.046890</td>\n",
              "      <td>2.637215</td>\n",
              "      <td>-1.224063</td>\n",
              "      <td>0.019422</td>\n",
              "    </tr>\n",
              "    <tr>\n",
              "      <th>634110400007229</th>\n",
              "      <td>-0.026129</td>\n",
              "      <td>-0.045747</td>\n",
              "      <td>2.656521</td>\n",
              "      <td>2.428572</td>\n",
              "      <td>-2.103093</td>\n",
              "      <td>-0.015175</td>\n",
              "      <td>-0.031090</td>\n",
              "      <td>-0.007545</td>\n",
              "      <td>-0.034387</td>\n",
              "      <td>0.037459</td>\n",
              "      <td>-0.053233</td>\n",
              "      <td>0.017111</td>\n",
              "      <td>-0.031956</td>\n",
              "      <td>0.058569</td>\n",
              "      <td>0.104327</td>\n",
              "      <td>0.017647</td>\n",
              "    </tr>\n",
              "  </tbody>\n",
              "</table>\n",
              "</div>"
            ],
            "text/plain": [
              "                       e1        e2        e3  ...       e14       e15       e16\n",
              "oid                                            ...                              \n",
              "405113200012094 -0.019421 -0.036640  1.555295  ...  0.754415 -1.031383  0.012401\n",
              "464105200007063  0.013039  0.040348 -2.174314  ... -0.264444  0.098123  0.002398\n",
              "516105400003751 -0.004812 -0.022248  0.782761  ...  1.983115  2.298911  0.036256\n",
              "629115200005576  0.005211  0.002847  0.081205  ...  2.637215 -1.224063  0.019422\n",
              "634110400007229 -0.026129 -0.045747  2.656521  ...  0.058569  0.104327  0.017647\n",
              "\n",
              "[5 rows x 16 columns]"
            ]
          },
          "metadata": {
            "tags": []
          },
          "execution_count": 40
        }
      ]
    },
    {
      "cell_type": "markdown",
      "metadata": {
        "id": "9UVmJGVIf3cx"
      },
      "source": [
        "## Anomaly detection with Isolation forest\n"
      ]
    },
    {
      "cell_type": "code",
      "metadata": {
        "id": "rnO6Fqe8f9mG"
      },
      "source": [
        "#Isolation model definition\n",
        "model_isof = IsolationForest(\n",
        "                n_estimators  = 500,\n",
        "                max_samples   ='auto',\n",
        "                contamination = 0.02,\n",
        "                n_jobs        = -1,\n",
        "                random_state  = 123,\n",
        "            )"
      ],
      "execution_count": null,
      "outputs": []
    },
    {
      "cell_type": "code",
      "metadata": {
        "colab": {
          "base_uri": "https://localhost:8080/"
        },
        "id": "hvEL387WgCuD",
        "outputId": "551ccc36-9873-48ed-a862-6a20a2ea5641"
      },
      "source": [
        "#fitting the model\n",
        "model_isof.fit(X=df_feat_train.values)"
      ],
      "execution_count": null,
      "outputs": [
        {
          "output_type": "execute_result",
          "data": {
            "text/plain": [
              "IsolationForest(behaviour='deprecated', bootstrap=False, contamination=0.02,\n",
              "                max_features=1.0, max_samples='auto', n_estimators=500,\n",
              "                n_jobs=-1, random_state=123, verbose=0, warm_start=False)"
            ]
          },
          "metadata": {
            "tags": []
          },
          "execution_count": 42
        }
      ]
    },
    {
      "cell_type": "code",
      "metadata": {
        "colab": {
          "base_uri": "https://localhost:8080/"
        },
        "id": "iSZunmzYgCim",
        "outputId": "5ddb3a6e-09ba-44d8-a6d7-686bc267a2fa"
      },
      "source": [
        "#predicting anomaly classification, considering contamination fraction\n",
        "pred_anomaly = model_isof.predict(X=df_feat.values)\n",
        "print(pred_anomaly)"
      ],
      "execution_count": null,
      "outputs": [
        {
          "output_type": "stream",
          "text": [
            "[-1  1  1 -1 -1  1  1  1  1 -1  1]\n"
          ],
          "name": "stdout"
        }
      ]
    },
    {
      "cell_type": "code",
      "metadata": {
        "colab": {
          "base_uri": "https://localhost:8080/"
        },
        "id": "4qoKVtUYhEEV",
        "outputId": "7624526a-b4ad-43eb-cdf3-a0592b6b9f02"
      },
      "source": [
        "#getting anomaly score\n",
        "score_anomaly = model_isof.score_samples(X=df_feat.values)\n",
        "print(score_anomaly)"
      ],
      "execution_count": null,
      "outputs": [
        {
          "output_type": "stream",
          "text": [
            "[-0.6105813  -0.55965611 -0.51567573 -0.58563561 -0.63976809 -0.43123427\n",
            " -0.39830504 -0.50715231 -0.52114523 -0.59504564 -0.57439741]\n"
          ],
          "name": "stdout"
        }
      ]
    },
    {
      "cell_type": "code",
      "metadata": {
        "colab": {
          "base_uri": "https://localhost:8080/",
          "height": 265
        },
        "id": "zkLl2CPfhbJ0",
        "outputId": "8e3cdea4-f9c9-4bb4-d9f6-67735d002c3d"
      },
      "source": [
        "#plotting histogram of anomaly score\n",
        "plt.hist(score_anomaly,bins=30)\n",
        "plt.show()"
      ],
      "execution_count": null,
      "outputs": [
        {
          "output_type": "display_data",
          "data": {
            "image/png": "[encoded data removed]",
            "text/plain": [
              "<Figure size 432x288 with 1 Axes>"
            ]
          },
          "metadata": {
            "tags": [],
            "needs_background": "light"
          }
        }
      ]
    },
    {
      "cell_type": "code",
      "metadata": {
        "colab": {
          "base_uri": "https://localhost:8080/",
          "height": 357
        },
        "id": "dtFoUiZSibUv",
        "outputId": "53bf5cd6-b569-4f88-e496-e202736dddf2"
      },
      "source": [
        "# Plotting distribution of anomaly scores\n",
        "fig, ax = plt.subplots(nrows=1, ncols=1, figsize=(7, 3.5))\n",
        "sns.distplot(\n",
        "    score_anomaly,\n",
        "    hist    = False,\n",
        "    rug     = True,\n",
        "    color   = 'blue',\n",
        "    kde_kws = {'shade': True, 'linewidth': 1},\n",
        "    ax      = ax\n",
        ")\n",
        "\n",
        "ax.axvline(model_isof.offset_, c='red', linestyle='--', label='cuantil 0.05')\n",
        "ax.set_xlabel('Anomaly score')\n",
        "print(model_isof.offset_)"
      ],
      "execution_count": null,
      "outputs": [
        {
          "output_type": "stream",
          "text": [
            "/usr/local/lib/python3.7/dist-packages/seaborn/distributions.py:2557: FutureWarning: `distplot` is a deprecated function and will be removed in a future version. Please adapt your code to use either `displot` (a figure-level function with similar flexibility) or `kdeplot` (an axes-level function for kernel density plots).\n",
            "  warnings.warn(msg, FutureWarning)\n",
            "/usr/local/lib/python3.7/dist-packages/seaborn/distributions.py:2056: FutureWarning: The `axis` variable is no longer used and will be removed. Instead, assign variables directly to `x` or `y`.\n",
            "  warnings.warn(msg, FutureWarning)\n"
          ],
          "name": "stderr"
        },
        {
          "output_type": "stream",
          "text": [
            "-0.5763301566355188\n"
          ],
          "name": "stdout"
        },
        {
          "output_type": "display_data",
          "data": {
            "image/png": "[encoded data removed]",
            "text/plain": [
              "<Figure size 504x252 with 1 Axes>"
            ]
          },
          "metadata": {
            "tags": [],
            "needs_background": "light"
          }
        }
      ]
    },
    {
      "cell_type": "markdown",
      "metadata": {
        "id": "aJ-kTGM8i5Nq"
      },
      "source": [
        "## Saving anomaly detection results"
      ]
    },
    {
      "cell_type": "code",
      "metadata": {
        "colab": {
          "base_uri": "https://localhost:8080/",
          "height": 357
        },
        "id": "hyWP81jdi8v8",
        "outputId": "ad8449b3-db5a-4efc-df02-f432ddf11fd7"
      },
      "source": [
        "df_feat['if_score'] = score_anomaly\n",
        "df_feat.head()"
      ],
      "execution_count": null,
      "outputs": [
        {
          "output_type": "stream",
          "text": [
            "/usr/local/lib/python3.7/dist-packages/ipykernel_launcher.py:1: SettingWithCopyWarning: \n",
            "A value is trying to be set on a copy of a slice from a DataFrame.\n",
            "Try using .loc[row_indexer,col_indexer] = value instead\n",
            "\n",
            "See the caveats in the documentation: https://pandas.pydata.org/pandas-docs/stable/user_guide/indexing.html#returning-a-view-versus-a-copy\n",
            "  \"\"\"Entry point for launching an IPython kernel.\n"
          ],
          "name": "stderr"
        },
        {
          "output_type": "execute_result",
          "data": {
            "text/html": [
              "<div>\n",
              "<style scoped>\n",
              "    .dataframe tbody tr th:only-of-type {\n",
              "        vertical-align: middle;\n",
              "    }\n",
              "\n",
              "    .dataframe tbody tr th {\n",
              "        vertical-align: top;\n",
              "    }\n",
              "\n",
              "    .dataframe thead th {\n",
              "        text-align: right;\n",
              "    }\n",
              "</style>\n",
              "<table border=\"1\" class=\"dataframe\">\n",
              "  <thead>\n",
              "    <tr style=\"text-align: right;\">\n",
              "      <th></th>\n",
              "      <th>e1</th>\n",
              "      <th>e2</th>\n",
              "      <th>e3</th>\n",
              "      <th>e4</th>\n",
              "      <th>e5</th>\n",
              "      <th>e6</th>\n",
              "      <th>e7</th>\n",
              "      <th>e8</th>\n",
              "      <th>e9</th>\n",
              "      <th>e10</th>\n",
              "      <th>e11</th>\n",
              "      <th>e12</th>\n",
              "      <th>e13</th>\n",
              "      <th>e14</th>\n",
              "      <th>e15</th>\n",
              "      <th>e16</th>\n",
              "      <th>if_score</th>\n",
              "    </tr>\n",
              "    <tr>\n",
              "      <th>oid</th>\n",
              "      <th></th>\n",
              "      <th></th>\n",
              "      <th></th>\n",
              "      <th></th>\n",
              "      <th></th>\n",
              "      <th></th>\n",
              "      <th></th>\n",
              "      <th></th>\n",
              "      <th></th>\n",
              "      <th></th>\n",
              "      <th></th>\n",
              "      <th></th>\n",
              "      <th></th>\n",
              "      <th></th>\n",
              "      <th></th>\n",
              "      <th></th>\n",
              "      <th></th>\n",
              "    </tr>\n",
              "  </thead>\n",
              "  <tbody>\n",
              "    <tr>\n",
              "      <th>405113200012094</th>\n",
              "      <td>-0.019421</td>\n",
              "      <td>-0.036640</td>\n",
              "      <td>1.555295</td>\n",
              "      <td>1.281783</td>\n",
              "      <td>-1.968677</td>\n",
              "      <td>-0.006785</td>\n",
              "      <td>-0.034409</td>\n",
              "      <td>0.006346</td>\n",
              "      <td>-0.036378</td>\n",
              "      <td>0.034309</td>\n",
              "      <td>-0.058941</td>\n",
              "      <td>0.025057</td>\n",
              "      <td>-0.040508</td>\n",
              "      <td>0.754415</td>\n",
              "      <td>-1.031383</td>\n",
              "      <td>0.012401</td>\n",
              "      <td>-0.610581</td>\n",
              "    </tr>\n",
              "    <tr>\n",
              "      <th>464105200007063</th>\n",
              "      <td>0.013039</td>\n",
              "      <td>0.040348</td>\n",
              "      <td>-2.174314</td>\n",
              "      <td>1.389187</td>\n",
              "      <td>1.373868</td>\n",
              "      <td>0.021756</td>\n",
              "      <td>0.003378</td>\n",
              "      <td>-0.007620</td>\n",
              "      <td>0.033752</td>\n",
              "      <td>-0.048393</td>\n",
              "      <td>0.040288</td>\n",
              "      <td>-0.041269</td>\n",
              "      <td>0.010209</td>\n",
              "      <td>-0.264444</td>\n",
              "      <td>0.098123</td>\n",
              "      <td>0.002398</td>\n",
              "      <td>-0.559656</td>\n",
              "    </tr>\n",
              "    <tr>\n",
              "      <th>516105400003751</th>\n",
              "      <td>-0.004812</td>\n",
              "      <td>-0.022248</td>\n",
              "      <td>0.782761</td>\n",
              "      <td>-0.180979</td>\n",
              "      <td>0.173506</td>\n",
              "      <td>0.012976</td>\n",
              "      <td>-0.016303</td>\n",
              "      <td>0.020130</td>\n",
              "      <td>0.005639</td>\n",
              "      <td>0.009286</td>\n",
              "      <td>-0.018461</td>\n",
              "      <td>0.024875</td>\n",
              "      <td>-0.007340</td>\n",
              "      <td>1.983115</td>\n",
              "      <td>2.298911</td>\n",
              "      <td>0.036256</td>\n",
              "      <td>-0.515676</td>\n",
              "    </tr>\n",
              "    <tr>\n",
              "      <th>629115200005576</th>\n",
              "      <td>0.005211</td>\n",
              "      <td>0.002847</td>\n",
              "      <td>0.081205</td>\n",
              "      <td>2.559672</td>\n",
              "      <td>0.830689</td>\n",
              "      <td>0.049800</td>\n",
              "      <td>-0.053007</td>\n",
              "      <td>0.017275</td>\n",
              "      <td>-0.012348</td>\n",
              "      <td>0.007815</td>\n",
              "      <td>-0.058085</td>\n",
              "      <td>0.009515</td>\n",
              "      <td>-0.046890</td>\n",
              "      <td>2.637215</td>\n",
              "      <td>-1.224063</td>\n",
              "      <td>0.019422</td>\n",
              "      <td>-0.585636</td>\n",
              "    </tr>\n",
              "    <tr>\n",
              "      <th>634110400007229</th>\n",
              "      <td>-0.026129</td>\n",
              "      <td>-0.045747</td>\n",
              "      <td>2.656521</td>\n",
              "      <td>2.428572</td>\n",
              "      <td>-2.103093</td>\n",
              "      <td>-0.015175</td>\n",
              "      <td>-0.031090</td>\n",
              "      <td>-0.007545</td>\n",
              "      <td>-0.034387</td>\n",
              "      <td>0.037459</td>\n",
              "      <td>-0.053233</td>\n",
              "      <td>0.017111</td>\n",
              "      <td>-0.031956</td>\n",
              "      <td>0.058569</td>\n",
              "      <td>0.104327</td>\n",
              "      <td>0.017647</td>\n",
              "      <td>-0.639768</td>\n",
              "    </tr>\n",
              "  </tbody>\n",
              "</table>\n",
              "</div>"
            ],
            "text/plain": [
              "                       e1        e2        e3  ...       e15       e16  if_score\n",
              "oid                                            ...                              \n",
              "405113200012094 -0.019421 -0.036640  1.555295  ... -1.031383  0.012401 -0.610581\n",
              "464105200007063  0.013039  0.040348 -2.174314  ...  0.098123  0.002398 -0.559656\n",
              "516105400003751 -0.004812 -0.022248  0.782761  ...  2.298911  0.036256 -0.515676\n",
              "629115200005576  0.005211  0.002847  0.081205  ... -1.224063  0.019422 -0.585636\n",
              "634110400007229 -0.026129 -0.045747  2.656521  ...  0.104327  0.017647 -0.639768\n",
              "\n",
              "[5 rows x 17 columns]"
            ]
          },
          "metadata": {
            "tags": []
          },
          "execution_count": 47
        }
      ]
    },
    {
      "cell_type": "code",
      "metadata": {
        "colab": {
          "base_uri": "https://localhost:8080/",
          "height": 286
        },
        "id": "Ibg4WzXBjF5h",
        "outputId": "bd637e1a-836e-4b85-a797-e968bb2dbb67"
      },
      "source": [
        "sel_df = df_feat[df_feat.if_score<-0.54]\n",
        "sel_df.head(50)"
      ],
      "execution_count": null,
      "outputs": [
        {
          "output_type": "execute_result",
          "data": {
            "text/html": [
              "<div>\n",
              "<style scoped>\n",
              "    .dataframe tbody tr th:only-of-type {\n",
              "        vertical-align: middle;\n",
              "    }\n",
              "\n",
              "    .dataframe tbody tr th {\n",
              "        vertical-align: top;\n",
              "    }\n",
              "\n",
              "    .dataframe thead th {\n",
              "        text-align: right;\n",
              "    }\n",
              "</style>\n",
              "<table border=\"1\" class=\"dataframe\">\n",
              "  <thead>\n",
              "    <tr style=\"text-align: right;\">\n",
              "      <th></th>\n",
              "      <th>e1</th>\n",
              "      <th>e2</th>\n",
              "      <th>e3</th>\n",
              "      <th>e4</th>\n",
              "      <th>e5</th>\n",
              "      <th>e6</th>\n",
              "      <th>e7</th>\n",
              "      <th>e8</th>\n",
              "      <th>e9</th>\n",
              "      <th>e10</th>\n",
              "      <th>e11</th>\n",
              "      <th>e12</th>\n",
              "      <th>e13</th>\n",
              "      <th>e14</th>\n",
              "      <th>e15</th>\n",
              "      <th>e16</th>\n",
              "      <th>if_score</th>\n",
              "    </tr>\n",
              "    <tr>\n",
              "      <th>oid</th>\n",
              "      <th></th>\n",
              "      <th></th>\n",
              "      <th></th>\n",
              "      <th></th>\n",
              "      <th></th>\n",
              "      <th></th>\n",
              "      <th></th>\n",
              "      <th></th>\n",
              "      <th></th>\n",
              "      <th></th>\n",
              "      <th></th>\n",
              "      <th></th>\n",
              "      <th></th>\n",
              "      <th></th>\n",
              "      <th></th>\n",
              "      <th></th>\n",
              "      <th></th>\n",
              "    </tr>\n",
              "  </thead>\n",
              "  <tbody>\n",
              "    <tr>\n",
              "      <th>405113200012094</th>\n",
              "      <td>-0.019421</td>\n",
              "      <td>-0.036640</td>\n",
              "      <td>1.555295</td>\n",
              "      <td>1.281783</td>\n",
              "      <td>-1.968677</td>\n",
              "      <td>-0.006785</td>\n",
              "      <td>-0.034409</td>\n",
              "      <td>0.006346</td>\n",
              "      <td>-0.036378</td>\n",
              "      <td>0.034309</td>\n",
              "      <td>-0.058941</td>\n",
              "      <td>0.025057</td>\n",
              "      <td>-0.040508</td>\n",
              "      <td>0.754415</td>\n",
              "      <td>-1.031383</td>\n",
              "      <td>0.012401</td>\n",
              "      <td>-0.610581</td>\n",
              "    </tr>\n",
              "    <tr>\n",
              "      <th>464105200007063</th>\n",
              "      <td>0.013039</td>\n",
              "      <td>0.040348</td>\n",
              "      <td>-2.174314</td>\n",
              "      <td>1.389187</td>\n",
              "      <td>1.373868</td>\n",
              "      <td>0.021756</td>\n",
              "      <td>0.003378</td>\n",
              "      <td>-0.007620</td>\n",
              "      <td>0.033752</td>\n",
              "      <td>-0.048393</td>\n",
              "      <td>0.040288</td>\n",
              "      <td>-0.041269</td>\n",
              "      <td>0.010209</td>\n",
              "      <td>-0.264444</td>\n",
              "      <td>0.098123</td>\n",
              "      <td>0.002398</td>\n",
              "      <td>-0.559656</td>\n",
              "    </tr>\n",
              "    <tr>\n",
              "      <th>629115200005576</th>\n",
              "      <td>0.005211</td>\n",
              "      <td>0.002847</td>\n",
              "      <td>0.081205</td>\n",
              "      <td>2.559672</td>\n",
              "      <td>0.830689</td>\n",
              "      <td>0.049800</td>\n",
              "      <td>-0.053007</td>\n",
              "      <td>0.017275</td>\n",
              "      <td>-0.012348</td>\n",
              "      <td>0.007815</td>\n",
              "      <td>-0.058085</td>\n",
              "      <td>0.009515</td>\n",
              "      <td>-0.046890</td>\n",
              "      <td>2.637215</td>\n",
              "      <td>-1.224063</td>\n",
              "      <td>0.019422</td>\n",
              "      <td>-0.585636</td>\n",
              "    </tr>\n",
              "    <tr>\n",
              "      <th>634110400007229</th>\n",
              "      <td>-0.026129</td>\n",
              "      <td>-0.045747</td>\n",
              "      <td>2.656521</td>\n",
              "      <td>2.428572</td>\n",
              "      <td>-2.103093</td>\n",
              "      <td>-0.015175</td>\n",
              "      <td>-0.031090</td>\n",
              "      <td>-0.007545</td>\n",
              "      <td>-0.034387</td>\n",
              "      <td>0.037459</td>\n",
              "      <td>-0.053233</td>\n",
              "      <td>0.017111</td>\n",
              "      <td>-0.031956</td>\n",
              "      <td>0.058569</td>\n",
              "      <td>0.104327</td>\n",
              "      <td>0.017647</td>\n",
              "      <td>-0.639768</td>\n",
              "    </tr>\n",
              "    <tr>\n",
              "      <th>843104100009515</th>\n",
              "      <td>0.007981</td>\n",
              "      <td>0.024715</td>\n",
              "      <td>-2.069909</td>\n",
              "      <td>-0.936412</td>\n",
              "      <td>0.564961</td>\n",
              "      <td>0.004367</td>\n",
              "      <td>0.028067</td>\n",
              "      <td>0.005650</td>\n",
              "      <td>0.056105</td>\n",
              "      <td>-0.046374</td>\n",
              "      <td>0.050279</td>\n",
              "      <td>-0.018335</td>\n",
              "      <td>0.029286</td>\n",
              "      <td>0.499199</td>\n",
              "      <td>3.626398</td>\n",
              "      <td>0.029110</td>\n",
              "      <td>-0.595046</td>\n",
              "    </tr>\n",
              "    <tr>\n",
              "      <th>861108300005770</th>\n",
              "      <td>0.008811</td>\n",
              "      <td>0.032509</td>\n",
              "      <td>-1.142797</td>\n",
              "      <td>0.510862</td>\n",
              "      <td>1.814281</td>\n",
              "      <td>0.006430</td>\n",
              "      <td>0.022855</td>\n",
              "      <td>-0.015450</td>\n",
              "      <td>0.039402</td>\n",
              "      <td>-0.045526</td>\n",
              "      <td>0.065416</td>\n",
              "      <td>-0.040060</td>\n",
              "      <td>0.033093</td>\n",
              "      <td>-1.219634</td>\n",
              "      <td>1.305871</td>\n",
              "      <td>0.001669</td>\n",
              "      <td>-0.574397</td>\n",
              "    </tr>\n",
              "  </tbody>\n",
              "</table>\n",
              "</div>"
            ],
            "text/plain": [
              "                       e1        e2        e3  ...       e15       e16  if_score\n",
              "oid                                            ...                              \n",
              "405113200012094 -0.019421 -0.036640  1.555295  ... -1.031383  0.012401 -0.610581\n",
              "464105200007063  0.013039  0.040348 -2.174314  ...  0.098123  0.002398 -0.559656\n",
              "629115200005576  0.005211  0.002847  0.081205  ... -1.224063  0.019422 -0.585636\n",
              "634110400007229 -0.026129 -0.045747  2.656521  ...  0.104327  0.017647 -0.639768\n",
              "843104100009515  0.007981  0.024715 -2.069909  ...  3.626398  0.029110 -0.595046\n",
              "861108300005770  0.008811  0.032509 -1.142797  ...  1.305871  0.001669 -0.574397\n",
              "\n",
              "[6 rows x 17 columns]"
            ]
          },
          "metadata": {
            "tags": []
          },
          "execution_count": 48
        }
      ]
    },
    {
      "cell_type": "code",
      "metadata": {
        "colab": {
          "base_uri": "https://localhost:8080/",
          "height": 272
        },
        "id": "U1d9MRcHyr6_",
        "outputId": "fc42682c-acbd-4e62-d677-580c18068c00"
      },
      "source": [
        "data['if_score'] = score_anomaly\n",
        "data.head()"
      ],
      "execution_count": null,
      "outputs": [
        {
          "output_type": "execute_result",
          "data": {
            "text/html": [
              "<div>\n",
              "<style scoped>\n",
              "    .dataframe tbody tr th:only-of-type {\n",
              "        vertical-align: middle;\n",
              "    }\n",
              "\n",
              "    .dataframe tbody tr th {\n",
              "        vertical-align: top;\n",
              "    }\n",
              "\n",
              "    .dataframe thead th {\n",
              "        text-align: right;\n",
              "    }\n",
              "</style>\n",
              "<table border=\"1\" class=\"dataframe\">\n",
              "  <thead>\n",
              "    <tr style=\"text-align: right;\">\n",
              "      <th></th>\n",
              "      <th>Unnamed: 0</th>\n",
              "      <th>chi2_gband</th>\n",
              "      <th>e1</th>\n",
              "      <th>e2</th>\n",
              "      <th>e3</th>\n",
              "      <th>e4</th>\n",
              "      <th>e5</th>\n",
              "      <th>e6</th>\n",
              "      <th>e7</th>\n",
              "      <th>e8</th>\n",
              "      <th>e9</th>\n",
              "      <th>e10</th>\n",
              "      <th>e11</th>\n",
              "      <th>e12</th>\n",
              "      <th>e13</th>\n",
              "      <th>e14</th>\n",
              "      <th>e15</th>\n",
              "      <th>e16</th>\n",
              "      <th>logsig_e1</th>\n",
              "      <th>logsig_e2</th>\n",
              "      <th>logsig_e3</th>\n",
              "      <th>logsig_e4</th>\n",
              "      <th>logsig_e5</th>\n",
              "      <th>logsig_e6</th>\n",
              "      <th>logsig_e7</th>\n",
              "      <th>logsig_e8</th>\n",
              "      <th>logsig_e9</th>\n",
              "      <th>logsig_e10</th>\n",
              "      <th>logsig_e11</th>\n",
              "      <th>logsig_e12</th>\n",
              "      <th>logsig_e13</th>\n",
              "      <th>logsig_e14</th>\n",
              "      <th>logsig_e15</th>\n",
              "      <th>logsig_e16</th>\n",
              "      <th>if_score</th>\n",
              "    </tr>\n",
              "    <tr>\n",
              "      <th>oid</th>\n",
              "      <th></th>\n",
              "      <th></th>\n",
              "      <th></th>\n",
              "      <th></th>\n",
              "      <th></th>\n",
              "      <th></th>\n",
              "      <th></th>\n",
              "      <th></th>\n",
              "      <th></th>\n",
              "      <th></th>\n",
              "      <th></th>\n",
              "      <th></th>\n",
              "      <th></th>\n",
              "      <th></th>\n",
              "      <th></th>\n",
              "      <th></th>\n",
              "      <th></th>\n",
              "      <th></th>\n",
              "      <th></th>\n",
              "      <th></th>\n",
              "      <th></th>\n",
              "      <th></th>\n",
              "      <th></th>\n",
              "      <th></th>\n",
              "      <th></th>\n",
              "      <th></th>\n",
              "      <th></th>\n",
              "      <th></th>\n",
              "      <th></th>\n",
              "      <th></th>\n",
              "      <th></th>\n",
              "      <th></th>\n",
              "      <th></th>\n",
              "      <th></th>\n",
              "      <th></th>\n",
              "    </tr>\n",
              "  </thead>\n",
              "  <tbody>\n",
              "    <tr>\n",
              "      <th>405113200012094</th>\n",
              "      <td>0</td>\n",
              "      <td>13.702934</td>\n",
              "      <td>-0.019421</td>\n",
              "      <td>-0.036640</td>\n",
              "      <td>1.555295</td>\n",
              "      <td>1.281783</td>\n",
              "      <td>-1.968677</td>\n",
              "      <td>-0.006785</td>\n",
              "      <td>-0.034409</td>\n",
              "      <td>0.006346</td>\n",
              "      <td>-0.036378</td>\n",
              "      <td>0.034309</td>\n",
              "      <td>-0.058941</td>\n",
              "      <td>0.025057</td>\n",
              "      <td>-0.040508</td>\n",
              "      <td>0.754415</td>\n",
              "      <td>-1.031383</td>\n",
              "      <td>0.012401</td>\n",
              "      <td>0.013559</td>\n",
              "      <td>-0.030243</td>\n",
              "      <td>-2.010220</td>\n",
              "      <td>-3.090810</td>\n",
              "      <td>-1.098368</td>\n",
              "      <td>-0.022051</td>\n",
              "      <td>-0.006376</td>\n",
              "      <td>-0.016476</td>\n",
              "      <td>-0.021834</td>\n",
              "      <td>0.000967</td>\n",
              "      <td>-0.009086</td>\n",
              "      <td>-0.019879</td>\n",
              "      <td>-0.012200</td>\n",
              "      <td>-3.093447</td>\n",
              "      <td>-1.636146</td>\n",
              "      <td>-0.009109</td>\n",
              "      <td>-0.610581</td>\n",
              "    </tr>\n",
              "    <tr>\n",
              "      <th>464105200007063</th>\n",
              "      <td>1</td>\n",
              "      <td>11.994704</td>\n",
              "      <td>0.013039</td>\n",
              "      <td>0.040348</td>\n",
              "      <td>-2.174314</td>\n",
              "      <td>1.389187</td>\n",
              "      <td>1.373868</td>\n",
              "      <td>0.021756</td>\n",
              "      <td>0.003378</td>\n",
              "      <td>-0.007620</td>\n",
              "      <td>0.033752</td>\n",
              "      <td>-0.048393</td>\n",
              "      <td>0.040288</td>\n",
              "      <td>-0.041269</td>\n",
              "      <td>0.010209</td>\n",
              "      <td>-0.264444</td>\n",
              "      <td>0.098123</td>\n",
              "      <td>0.002398</td>\n",
              "      <td>-0.016390</td>\n",
              "      <td>-0.023794</td>\n",
              "      <td>-1.848767</td>\n",
              "      <td>-2.917219</td>\n",
              "      <td>-0.955646</td>\n",
              "      <td>0.003677</td>\n",
              "      <td>-0.010442</td>\n",
              "      <td>-0.001627</td>\n",
              "      <td>-0.003605</td>\n",
              "      <td>-0.012198</td>\n",
              "      <td>-0.013912</td>\n",
              "      <td>0.004654</td>\n",
              "      <td>-0.011905</td>\n",
              "      <td>-2.751052</td>\n",
              "      <td>-1.458442</td>\n",
              "      <td>-0.022732</td>\n",
              "      <td>-0.559656</td>\n",
              "    </tr>\n",
              "    <tr>\n",
              "      <th>516105400003751</th>\n",
              "      <td>2</td>\n",
              "      <td>10.672771</td>\n",
              "      <td>-0.004812</td>\n",
              "      <td>-0.022248</td>\n",
              "      <td>0.782761</td>\n",
              "      <td>-0.180979</td>\n",
              "      <td>0.173506</td>\n",
              "      <td>0.012976</td>\n",
              "      <td>-0.016303</td>\n",
              "      <td>0.020130</td>\n",
              "      <td>0.005639</td>\n",
              "      <td>0.009286</td>\n",
              "      <td>-0.018461</td>\n",
              "      <td>0.024875</td>\n",
              "      <td>-0.007340</td>\n",
              "      <td>1.983115</td>\n",
              "      <td>2.298911</td>\n",
              "      <td>0.036256</td>\n",
              "      <td>-0.005318</td>\n",
              "      <td>-0.012752</td>\n",
              "      <td>-1.784626</td>\n",
              "      <td>-3.190440</td>\n",
              "      <td>-1.022637</td>\n",
              "      <td>-0.005378</td>\n",
              "      <td>0.006961</td>\n",
              "      <td>0.001216</td>\n",
              "      <td>-0.029050</td>\n",
              "      <td>0.013703</td>\n",
              "      <td>-0.026502</td>\n",
              "      <td>-0.020044</td>\n",
              "      <td>-0.007896</td>\n",
              "      <td>-2.590686</td>\n",
              "      <td>-1.527835</td>\n",
              "      <td>0.006367</td>\n",
              "      <td>-0.515676</td>\n",
              "    </tr>\n",
              "    <tr>\n",
              "      <th>629115200005576</th>\n",
              "      <td>3</td>\n",
              "      <td>3.435884</td>\n",
              "      <td>0.005211</td>\n",
              "      <td>0.002847</td>\n",
              "      <td>0.081205</td>\n",
              "      <td>2.559672</td>\n",
              "      <td>0.830689</td>\n",
              "      <td>0.049800</td>\n",
              "      <td>-0.053007</td>\n",
              "      <td>0.017275</td>\n",
              "      <td>-0.012348</td>\n",
              "      <td>0.007815</td>\n",
              "      <td>-0.058085</td>\n",
              "      <td>0.009515</td>\n",
              "      <td>-0.046890</td>\n",
              "      <td>2.637215</td>\n",
              "      <td>-1.224063</td>\n",
              "      <td>0.019422</td>\n",
              "      <td>0.006163</td>\n",
              "      <td>-0.030562</td>\n",
              "      <td>-2.279156</td>\n",
              "      <td>-3.221613</td>\n",
              "      <td>-1.234595</td>\n",
              "      <td>-0.018163</td>\n",
              "      <td>-0.005264</td>\n",
              "      <td>-0.010095</td>\n",
              "      <td>-0.034713</td>\n",
              "      <td>0.000614</td>\n",
              "      <td>-0.018131</td>\n",
              "      <td>-0.020311</td>\n",
              "      <td>-0.012826</td>\n",
              "      <td>-3.256318</td>\n",
              "      <td>-1.950540</td>\n",
              "      <td>-0.009690</td>\n",
              "      <td>-0.585636</td>\n",
              "    </tr>\n",
              "    <tr>\n",
              "      <th>634110400007229</th>\n",
              "      <td>4</td>\n",
              "      <td>20.912769</td>\n",
              "      <td>-0.026129</td>\n",
              "      <td>-0.045747</td>\n",
              "      <td>2.656521</td>\n",
              "      <td>2.428572</td>\n",
              "      <td>-2.103093</td>\n",
              "      <td>-0.015175</td>\n",
              "      <td>-0.031090</td>\n",
              "      <td>-0.007545</td>\n",
              "      <td>-0.034387</td>\n",
              "      <td>0.037459</td>\n",
              "      <td>-0.053233</td>\n",
              "      <td>0.017111</td>\n",
              "      <td>-0.031956</td>\n",
              "      <td>0.058569</td>\n",
              "      <td>0.104327</td>\n",
              "      <td>0.017647</td>\n",
              "      <td>-0.007873</td>\n",
              "      <td>-0.068008</td>\n",
              "      <td>-3.477855</td>\n",
              "      <td>-4.640034</td>\n",
              "      <td>-2.646352</td>\n",
              "      <td>-0.042791</td>\n",
              "      <td>-0.019814</td>\n",
              "      <td>-0.018822</td>\n",
              "      <td>-0.051326</td>\n",
              "      <td>-0.012941</td>\n",
              "      <td>-0.022380</td>\n",
              "      <td>-0.037205</td>\n",
              "      <td>-0.029547</td>\n",
              "      <td>-5.061471</td>\n",
              "      <td>-3.178742</td>\n",
              "      <td>-0.021160</td>\n",
              "      <td>-0.639768</td>\n",
              "    </tr>\n",
              "  </tbody>\n",
              "</table>\n",
              "</div>"
            ],
            "text/plain": [
              "                 Unnamed: 0  chi2_gband  ...  logsig_e16  if_score\n",
              "oid                                      ...                      \n",
              "405113200012094           0   13.702934  ...   -0.009109 -0.610581\n",
              "464105200007063           1   11.994704  ...   -0.022732 -0.559656\n",
              "516105400003751           2   10.672771  ...    0.006367 -0.515676\n",
              "629115200005576           3    3.435884  ...   -0.009690 -0.585636\n",
              "634110400007229           4   20.912769  ...   -0.021160 -0.639768\n",
              "\n",
              "[5 rows x 35 columns]"
            ]
          },
          "metadata": {
            "tags": []
          },
          "execution_count": 49
        }
      ]
    },
    {
      "cell_type": "code",
      "metadata": {
        "id": "A9NnvpRXyvjW"
      },
      "source": [
        "#data.to_csv('/content/drive/MyDrive/CSAGNs/results_DR5/VAE_psDR5_SDSS_QSO_balanced_detprop_GRU2x32-encoding16_gband/DR5_final_sample_features_chi2_prederr10_isolation_forest_score_training_with_balqsosample_gband.csv')"
      ],
      "execution_count": null,
      "outputs": []
    },
    {
      "cell_type": "code",
      "metadata": {
        "id": "0HNMM-vjI5q4",
        "colab": {
          "base_uri": "https://localhost:8080/",
          "height": 334
        },
        "outputId": "7d0c6bd7-b422-4276-f62a-2193473078b1"
      },
      "source": [
        "fig = plt.scatter(data.if_score.values,data.n_good_det.values,c=np.log10(data.Autocor_length.values),cmap='gist_heat')\n",
        "plt.colorbar(fig)\n",
        "plt.xlabel('IF score')\n",
        "plt.ylabel('number epochs')"
      ],
      "execution_count": null,
      "outputs": [
        {
          "output_type": "error",
          "ename": "AttributeError",
          "evalue": "ignored",
          "traceback": [
            "\u001b[0;31m---------------------------------------------------------------------------\u001b[0m",
            "\u001b[0;31mAttributeError\u001b[0m                            Traceback (most recent call last)",
            "\u001b[0;32m<ipython-input-51-d2483a5c0c02>\u001b[0m in \u001b[0;36m<module>\u001b[0;34m()\u001b[0m\n\u001b[0;32m----> 1\u001b[0;31m \u001b[0mfig\u001b[0m \u001b[0;34m=\u001b[0m \u001b[0mplt\u001b[0m\u001b[0;34m.\u001b[0m\u001b[0mscatter\u001b[0m\u001b[0;34m(\u001b[0m\u001b[0mdata\u001b[0m\u001b[0;34m.\u001b[0m\u001b[0mif_score\u001b[0m\u001b[0;34m.\u001b[0m\u001b[0mvalues\u001b[0m\u001b[0;34m,\u001b[0m\u001b[0mdata\u001b[0m\u001b[0;34m.\u001b[0m\u001b[0mn_good_det\u001b[0m\u001b[0;34m.\u001b[0m\u001b[0mvalues\u001b[0m\u001b[0;34m,\u001b[0m\u001b[0mc\u001b[0m\u001b[0;34m=\u001b[0m\u001b[0mnp\u001b[0m\u001b[0;34m.\u001b[0m\u001b[0mlog10\u001b[0m\u001b[0;34m(\u001b[0m\u001b[0mdata\u001b[0m\u001b[0;34m.\u001b[0m\u001b[0mAutocor_length\u001b[0m\u001b[0;34m.\u001b[0m\u001b[0mvalues\u001b[0m\u001b[0;34m)\u001b[0m\u001b[0;34m,\u001b[0m\u001b[0mcmap\u001b[0m\u001b[0;34m=\u001b[0m\u001b[0;34m'gist_heat'\u001b[0m\u001b[0;34m)\u001b[0m\u001b[0;34m\u001b[0m\u001b[0;34m\u001b[0m\u001b[0m\n\u001b[0m\u001b[1;32m      2\u001b[0m \u001b[0mplt\u001b[0m\u001b[0;34m.\u001b[0m\u001b[0mcolorbar\u001b[0m\u001b[0;34m(\u001b[0m\u001b[0mfig\u001b[0m\u001b[0;34m)\u001b[0m\u001b[0;34m\u001b[0m\u001b[0;34m\u001b[0m\u001b[0m\n\u001b[1;32m      3\u001b[0m \u001b[0mplt\u001b[0m\u001b[0;34m.\u001b[0m\u001b[0mxlabel\u001b[0m\u001b[0;34m(\u001b[0m\u001b[0;34m'IF score'\u001b[0m\u001b[0;34m)\u001b[0m\u001b[0;34m\u001b[0m\u001b[0;34m\u001b[0m\u001b[0m\n\u001b[1;32m      4\u001b[0m \u001b[0mplt\u001b[0m\u001b[0;34m.\u001b[0m\u001b[0mylabel\u001b[0m\u001b[0;34m(\u001b[0m\u001b[0;34m'number epochs'\u001b[0m\u001b[0;34m)\u001b[0m\u001b[0;34m\u001b[0m\u001b[0;34m\u001b[0m\u001b[0m\n",
            "\u001b[0;32m/usr/local/lib/python3.7/dist-packages/pandas/core/generic.py\u001b[0m in \u001b[0;36m__getattr__\u001b[0;34m(self, name)\u001b[0m\n\u001b[1;32m   5139\u001b[0m             \u001b[0;32mif\u001b[0m \u001b[0mself\u001b[0m\u001b[0;34m.\u001b[0m\u001b[0m_info_axis\u001b[0m\u001b[0;34m.\u001b[0m\u001b[0m_can_hold_identifiers_and_holds_name\u001b[0m\u001b[0;34m(\u001b[0m\u001b[0mname\u001b[0m\u001b[0;34m)\u001b[0m\u001b[0;34m:\u001b[0m\u001b[0;34m\u001b[0m\u001b[0;34m\u001b[0m\u001b[0m\n\u001b[1;32m   5140\u001b[0m                 \u001b[0;32mreturn\u001b[0m \u001b[0mself\u001b[0m\u001b[0;34m[\u001b[0m\u001b[0mname\u001b[0m\u001b[0;34m]\u001b[0m\u001b[0;34m\u001b[0m\u001b[0;34m\u001b[0m\u001b[0m\n\u001b[0;32m-> 5141\u001b[0;31m             \u001b[0;32mreturn\u001b[0m \u001b[0mobject\u001b[0m\u001b[0;34m.\u001b[0m\u001b[0m__getattribute__\u001b[0m\u001b[0;34m(\u001b[0m\u001b[0mself\u001b[0m\u001b[0;34m,\u001b[0m \u001b[0mname\u001b[0m\u001b[0;34m)\u001b[0m\u001b[0;34m\u001b[0m\u001b[0;34m\u001b[0m\u001b[0m\n\u001b[0m\u001b[1;32m   5142\u001b[0m \u001b[0;34m\u001b[0m\u001b[0m\n\u001b[1;32m   5143\u001b[0m     \u001b[0;32mdef\u001b[0m \u001b[0m__setattr__\u001b[0m\u001b[0;34m(\u001b[0m\u001b[0mself\u001b[0m\u001b[0;34m,\u001b[0m \u001b[0mname\u001b[0m\u001b[0;34m:\u001b[0m \u001b[0mstr\u001b[0m\u001b[0;34m,\u001b[0m \u001b[0mvalue\u001b[0m\u001b[0;34m)\u001b[0m \u001b[0;34m->\u001b[0m \u001b[0;32mNone\u001b[0m\u001b[0;34m:\u001b[0m\u001b[0;34m\u001b[0m\u001b[0;34m\u001b[0m\u001b[0m\n",
            "\u001b[0;31mAttributeError\u001b[0m: 'DataFrame' object has no attribute 'n_good_det'"
          ]
        }
      ]
    },
    {
      "cell_type": "code",
      "metadata": {
        "id": "ow1w2C605RoB"
      },
      "source": [
        ""
      ],
      "execution_count": null,
      "outputs": []
    }
  ]
}